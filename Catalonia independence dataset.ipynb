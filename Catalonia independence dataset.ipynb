{
 "cells": [
  {
   "attachments": {},
   "cell_type": "markdown",
   "id": "b7508529",
   "metadata": {},
   "source": [
    "# Catalonia independence dataset"
   ]
  },
  {
   "cell_type": "code",
   "execution_count": 1,
   "id": "a0cf03c9",
   "metadata": {},
   "outputs": [],
   "source": [
    "import pandas as pd\n",
    "import collections\n",
    "from matplotlib import pyplot as plt\n",
    "import numpy as np\n",
    "#Function on CSS created for this\n",
    "from IPython.display import display_html"
   ]
  },
  {
   "cell_type": "code",
   "execution_count": 2,
   "id": "bb2996e8",
   "metadata": {},
   "outputs": [],
   "source": [
    "def display_side_by_side(*args):\n",
    "    html_str=''\n",
    "    for df in args:\n",
    "        html_str+=df.to_html()\n",
    "    display_html(html_str.replace('table','table style=\"display:inline\"'),raw=True)"
   ]
  },
  {
   "cell_type": "markdown",
   "id": "3a5efff2",
   "metadata": {},
   "source": [
    "# Spanish Dataset"
   ]
  },
  {
   "cell_type": "code",
   "execution_count": 3,
   "id": "54052d9a",
   "metadata": {},
   "outputs": [
    {
     "data": {
      "text/html": [
       "<div>\n",
       "<style scoped>\n",
       "    .dataframe tbody tr th:only-of-type {\n",
       "        vertical-align: middle;\n",
       "    }\n",
       "\n",
       "    .dataframe tbody tr th {\n",
       "        vertical-align: top;\n",
       "    }\n",
       "\n",
       "    .dataframe thead th {\n",
       "        text-align: right;\n",
       "    }\n",
       "</style>\n",
       "<table border=\"1\" class=\"dataframe\">\n",
       "  <thead>\n",
       "    <tr style=\"text-align: right;\">\n",
       "      <th></th>\n",
       "      <th>id_str</th>\n",
       "      <th>TWEET</th>\n",
       "      <th>LABEL</th>\n",
       "    </tr>\n",
       "  </thead>\n",
       "  <tbody>\n",
       "    <tr>\n",
       "      <th>0</th>\n",
       "      <td>1099284472267182080</td>\n",
       "      <td>RT @EFEnoticias: Arrimadas se presenta a las g...</td>\n",
       "      <td>AGAINST</td>\n",
       "    </tr>\n",
       "    <tr>\n",
       "      <th>1</th>\n",
       "      <td>1102569937447673856</td>\n",
       "      <td>@gabrielrufian Derecho a la autodeterminación ...</td>\n",
       "      <td>AGAINST</td>\n",
       "    </tr>\n",
       "    <tr>\n",
       "      <th>2</th>\n",
       "      <td>1097576883464609793</td>\n",
       "      <td>#URGENTE ???? #Cataluña: Los CDR atacan con pi...</td>\n",
       "      <td>AGAINST</td>\n",
       "    </tr>\n",
       "    <tr>\n",
       "      <th>3</th>\n",
       "      <td>1097475970355904514</td>\n",
       "      <td>Cansado de los eslóganes de izquierdas y derec...</td>\n",
       "      <td>AGAINST</td>\n",
       "    </tr>\n",
       "    <tr>\n",
       "      <th>4</th>\n",
       "      <td>1093133896936505345</td>\n",
       "      <td>Le recuerdo a @EnricJuliana que en Cataluña lo...</td>\n",
       "      <td>NEUTRAL</td>\n",
       "    </tr>\n",
       "  </tbody>\n",
       "</table>\n",
       "</div>"
      ],
      "text/plain": [
       "                id_str                                              TWEET  \\\n",
       "0  1099284472267182080  RT @EFEnoticias: Arrimadas se presenta a las g...   \n",
       "1  1102569937447673856  @gabrielrufian Derecho a la autodeterminación ...   \n",
       "2  1097576883464609793  #URGENTE ???? #Cataluña: Los CDR atacan con pi...   \n",
       "3  1097475970355904514  Cansado de los eslóganes de izquierdas y derec...   \n",
       "4  1093133896936505345  Le recuerdo a @EnricJuliana que en Cataluña lo...   \n",
       "\n",
       "     LABEL  \n",
       "0  AGAINST  \n",
       "1  AGAINST  \n",
       "2  AGAINST  \n",
       "3  AGAINST  \n",
       "4  NEUTRAL  "
      ]
     },
     "execution_count": 3,
     "metadata": {},
     "output_type": "execute_result"
    }
   ],
   "source": [
    "#training data - spanish\n",
    "spanish_train = pd.read_csv('catalonia-independence-corpus-master/spanish_train.csv', \n",
    "                            dtype={'id_str': 'str'}, sep='\\t', encoding=\"utf-8\")\n",
    "spanish_train.head(5)                           # Check the first 5 rows"
   ]
  },
  {
   "cell_type": "code",
   "execution_count": 4,
   "id": "b05c09dc",
   "metadata": {},
   "outputs": [
    {
     "data": {
      "text/html": [
       "<div>\n",
       "<style scoped>\n",
       "    .dataframe tbody tr th:only-of-type {\n",
       "        vertical-align: middle;\n",
       "    }\n",
       "\n",
       "    .dataframe tbody tr th {\n",
       "        vertical-align: top;\n",
       "    }\n",
       "\n",
       "    .dataframe thead th {\n",
       "        text-align: right;\n",
       "    }\n",
       "</style>\n",
       "<table border=\"1\" class=\"dataframe\">\n",
       "  <thead>\n",
       "    <tr style=\"text-align: right;\">\n",
       "      <th></th>\n",
       "      <th>id_str</th>\n",
       "      <th>TWEET</th>\n",
       "      <th>LABEL</th>\n",
       "    </tr>\n",
       "  </thead>\n",
       "  <tbody>\n",
       "    <tr>\n",
       "      <th>0</th>\n",
       "      <td>1098900866189402114</td>\n",
       "      <td>Recuerda que #AntonioMachado se exilió para qu...</td>\n",
       "      <td>FAVOR</td>\n",
       "    </tr>\n",
       "    <tr>\n",
       "      <th>1</th>\n",
       "      <td>1098884082090631168</td>\n",
       "      <td>Un problema llamado federalismo. Mientras no n...</td>\n",
       "      <td>FAVOR</td>\n",
       "    </tr>\n",
       "    <tr>\n",
       "      <th>2</th>\n",
       "      <td>1046494423092264961</td>\n",
       "      <td>#FelizSábado Mi apoyo y cariño para la gran pe...</td>\n",
       "      <td>AGAINST</td>\n",
       "    </tr>\n",
       "    <tr>\n",
       "      <th>3</th>\n",
       "      <td>1092208306800734210</td>\n",
       "      <td>@iguardans Lo digo porque muchos que jamás se ...</td>\n",
       "      <td>AGAINST</td>\n",
       "    </tr>\n",
       "    <tr>\n",
       "      <th>4</th>\n",
       "      <td>1096002407983665152</td>\n",
       "      <td>@publico_es @Alopezdemiguel El juicio a los pr...</td>\n",
       "      <td>FAVOR</td>\n",
       "    </tr>\n",
       "  </tbody>\n",
       "</table>\n",
       "</div>"
      ],
      "text/plain": [
       "                id_str                                              TWEET  \\\n",
       "0  1098900866189402114  Recuerda que #AntonioMachado se exilió para qu...   \n",
       "1  1098884082090631168  Un problema llamado federalismo. Mientras no n...   \n",
       "2  1046494423092264961  #FelizSábado Mi apoyo y cariño para la gran pe...   \n",
       "3  1092208306800734210  @iguardans Lo digo porque muchos que jamás se ...   \n",
       "4  1096002407983665152  @publico_es @Alopezdemiguel El juicio a los pr...   \n",
       "\n",
       "     LABEL  \n",
       "0    FAVOR  \n",
       "1    FAVOR  \n",
       "2  AGAINST  \n",
       "3  AGAINST  \n",
       "4    FAVOR  "
      ]
     },
     "execution_count": 4,
     "metadata": {},
     "output_type": "execute_result"
    }
   ],
   "source": [
    "#Validation data - spanish\n",
    "spanish_val = pd.read_csv('catalonia-independence-corpus-master/spanish_val.csv', \n",
    "                            dtype={'id_str': 'str'}, sep='\\t', encoding=\"utf-8\")\n",
    "spanish_val.head(5)                           # Check the first 5 rows"
   ]
  },
  {
   "cell_type": "code",
   "execution_count": 5,
   "id": "0dafbf1c",
   "metadata": {},
   "outputs": [
    {
     "data": {
      "text/html": [
       "<div>\n",
       "<style scoped>\n",
       "    .dataframe tbody tr th:only-of-type {\n",
       "        vertical-align: middle;\n",
       "    }\n",
       "\n",
       "    .dataframe tbody tr th {\n",
       "        vertical-align: top;\n",
       "    }\n",
       "\n",
       "    .dataframe thead th {\n",
       "        text-align: right;\n",
       "    }\n",
       "</style>\n",
       "<table border=\"1\" class=\"dataframe\">\n",
       "  <thead>\n",
       "    <tr style=\"text-align: right;\">\n",
       "      <th></th>\n",
       "      <th>id_str</th>\n",
       "      <th>TWEET</th>\n",
       "      <th>LABEL</th>\n",
       "    </tr>\n",
       "  </thead>\n",
       "  <tbody>\n",
       "    <tr>\n",
       "      <th>0</th>\n",
       "      <td>1097764182328594432</td>\n",
       "      <td>En Valencia se pasa hambre pero no parece ser ...</td>\n",
       "      <td>AGAINST</td>\n",
       "    </tr>\n",
       "    <tr>\n",
       "      <th>1</th>\n",
       "      <td>1103349523382919169</td>\n",
       "      <td>Así era el proyecto de Constitución catalana: ...</td>\n",
       "      <td>AGAINST</td>\n",
       "    </tr>\n",
       "    <tr>\n",
       "      <th>2</th>\n",
       "      <td>1097806427215839232</td>\n",
       "      <td>Necesitamos un Gobierno valiente  y que defien...</td>\n",
       "      <td>AGAINST</td>\n",
       "    </tr>\n",
       "    <tr>\n",
       "      <th>3</th>\n",
       "      <td>1095963036693733376</td>\n",
       "      <td>“Joder con los indepes que no se venden como h...</td>\n",
       "      <td>FAVOR</td>\n",
       "    </tr>\n",
       "    <tr>\n",
       "      <th>4</th>\n",
       "      <td>1103603343740551170</td>\n",
       "      <td>Antoni Puigverd se queja de que Millo no facil...</td>\n",
       "      <td>AGAINST</td>\n",
       "    </tr>\n",
       "  </tbody>\n",
       "</table>\n",
       "</div>"
      ],
      "text/plain": [
       "                id_str                                              TWEET  \\\n",
       "0  1097764182328594432  En Valencia se pasa hambre pero no parece ser ...   \n",
       "1  1103349523382919169  Así era el proyecto de Constitución catalana: ...   \n",
       "2  1097806427215839232  Necesitamos un Gobierno valiente  y que defien...   \n",
       "3  1095963036693733376  “Joder con los indepes que no se venden como h...   \n",
       "4  1103603343740551170  Antoni Puigverd se queja de que Millo no facil...   \n",
       "\n",
       "     LABEL  \n",
       "0  AGAINST  \n",
       "1  AGAINST  \n",
       "2  AGAINST  \n",
       "3    FAVOR  \n",
       "4  AGAINST  "
      ]
     },
     "execution_count": 5,
     "metadata": {},
     "output_type": "execute_result"
    }
   ],
   "source": [
    "#Test data - spanish\n",
    "spanish_test = pd.read_csv('catalonia-independence-corpus-master/spanish_test.csv', \n",
    "                            dtype={'id_str': 'str'}, sep='\\t', encoding=\"utf-8\")\n",
    "spanish_test.head(5)                           # Check the first 5 rows"
   ]
  },
  {
   "cell_type": "code",
   "execution_count": 6,
   "id": "03287a96",
   "metadata": {},
   "outputs": [
    {
     "name": "stdout",
     "output_type": "stream",
     "text": [
      "Training data contains 3 unique labels/stans\n",
      "Validation data contains 3 unique labels/stans\n",
      "Test data contains 3 unique labels/stans\n"
     ]
    }
   ],
   "source": [
    "#statistics\n",
    "uniquelabels_tr = spanish_train['LABEL'].unique()\n",
    "print(\"Training data contains %d unique labels/stans\" % len(uniquelabels_tr))\n",
    "\n",
    "uniquelabels_val = spanish_val['LABEL'].unique()\n",
    "print(\"Validation data contains %d unique labels/stans\" % len(uniquelabels_val))\n",
    "\n",
    "uniquelabels_test = spanish_test['LABEL'].unique()\n",
    "print(\"Test data contains %d unique labels/stans\" % len(uniquelabels_test))"
   ]
  },
  {
   "cell_type": "code",
   "execution_count": 7,
   "id": "34ed5e10",
   "metadata": {},
   "outputs": [
    {
     "name": "stdout",
     "output_type": "stream",
     "text": [
      "Training Data Counter({'FAVOR': 2515, 'AGAINST': 2420, 'NEUTRAL': 1111})\n",
      "Validation Data Counter({'AGAINST': 856, 'FAVOR': 782, 'NEUTRAL': 377})\n",
      "Test Data Counter({'AGAINST': 829, 'FAVOR': 807, 'NEUTRAL': 380})\n"
     ]
    }
   ],
   "source": [
    "tr_label_counts = collections.Counter(spanish_train['LABEL'])\n",
    "print(\"Training Data\", tr_label_counts)\n",
    "\n",
    "val_label_counts = collections.Counter(spanish_val['LABEL'])\n",
    "print(\"Validation Data\", val_label_counts)\n",
    "\n",
    "test_label_counts = collections.Counter(spanish_test['LABEL'])\n",
    "print(\"Test Data\", test_label_counts)"
   ]
  },
  {
   "cell_type": "code",
   "execution_count": 8,
   "id": "7321c766",
   "metadata": {},
   "outputs": [
    {
     "data": {
      "image/png": "[encoded data removed]",
      "text/plain": [
       "<Figure size 1440x360 with 3 Axes>"
      ]
     },
     "metadata": {
      "needs_background": "light"
     },
     "output_type": "display_data"
    }
   ],
   "source": [
    "figure, axes = plt.subplots(1, 3,figsize=(20,5))\n",
    "\n",
    "tr_list=[]\n",
    "for label in tr_label_counts:\n",
    "  tr_list.append([label,tr_label_counts[label],np.round(tr_label_counts[label] / len(spanish_train),3)])\n",
    "tr_label = pd.DataFrame(tr_list,columns=['STAN','Count','Prior_probabilities'])\n",
    "tr_label.plot.bar(x='STAN', y='Count', ax=axes[0])\n",
    "axes[0].title.set_text(\"Distribution of stans in the Spanish Training set \")\n",
    "\n",
    "val_list=[]\n",
    "for label in val_label_counts:\n",
    "  val_list.append([label,val_label_counts[label],np.round(val_label_counts[label] / len(spanish_val),3)])\n",
    "val_label = pd.DataFrame(val_list,columns=['STAN','Count','Prior_probabilities'])\n",
    "val_label.plot.bar(x='STAN', y='Count', ax=axes[1])\n",
    "axes[1].title.set_text(\"Distribution of stans in the Spanish Validation set \")\n",
    "\n",
    "test_list=[]\n",
    "for label in test_label_counts:\n",
    "  test_list.append([label,test_label_counts[label],np.round(test_label_counts[label] / len(spanish_test),3)])\n",
    "test_label = pd.DataFrame(test_list,columns=['STAN','Count','Prior_probabilities'])\n",
    "test_label.plot.bar(x='STAN', y='Count', ax=axes[2])\n",
    "axes[2].title.set_text(\"Distribution of stans in the Spanish Test set \")"
   ]
  },
  {
   "cell_type": "code",
   "execution_count": 9,
   "id": "a2b5f3b7",
   "metadata": {},
   "outputs": [
    {
     "name": "stdout",
     "output_type": "stream",
     "text": [
      "Label Distribution in Training set   Label Distribution in Validation set   Label Distribution in Test set\n"
     ]
    },
    {
     "data": {
      "text/html": [
       "<table style=\"display:inline\" border=\"1\" class=\"dataframe\">\n",
       "  <thead>\n",
       "    <tr style=\"text-align: right;\">\n",
       "      <th></th>\n",
       "      <th>STAN</th>\n",
       "      <th>Count</th>\n",
       "      <th>Prior_probabilities</th>\n",
       "    </tr>\n",
       "  </thead>\n",
       "  <tbody>\n",
       "    <tr>\n",
       "      <th>0</th>\n",
       "      <td>AGAINST</td>\n",
       "      <td>2420</td>\n",
       "      <td>0.400</td>\n",
       "    </tr>\n",
       "    <tr>\n",
       "      <th>1</th>\n",
       "      <td>NEUTRAL</td>\n",
       "      <td>1111</td>\n",
       "      <td>0.184</td>\n",
       "    </tr>\n",
       "    <tr>\n",
       "      <th>2</th>\n",
       "      <td>FAVOR</td>\n",
       "      <td>2515</td>\n",
       "      <td>0.416</td>\n",
       "    </tr>\n",
       "  </tbody>\n",
       "</table style=\"display:inline\"><table style=\"display:inline\" border=\"1\" class=\"dataframe\">\n",
       "  <thead>\n",
       "    <tr style=\"text-align: right;\">\n",
       "      <th></th>\n",
       "      <th>STAN</th>\n",
       "      <th>Count</th>\n",
       "      <th>Prior_probabilities</th>\n",
       "    </tr>\n",
       "  </thead>\n",
       "  <tbody>\n",
       "    <tr>\n",
       "      <th>0</th>\n",
       "      <td>FAVOR</td>\n",
       "      <td>782</td>\n",
       "      <td>0.388</td>\n",
       "    </tr>\n",
       "    <tr>\n",
       "      <th>1</th>\n",
       "      <td>AGAINST</td>\n",
       "      <td>856</td>\n",
       "      <td>0.425</td>\n",
       "    </tr>\n",
       "    <tr>\n",
       "      <th>2</th>\n",
       "      <td>NEUTRAL</td>\n",
       "      <td>377</td>\n",
       "      <td>0.187</td>\n",
       "    </tr>\n",
       "  </tbody>\n",
       "</table style=\"display:inline\"><table style=\"display:inline\" border=\"1\" class=\"dataframe\">\n",
       "  <thead>\n",
       "    <tr style=\"text-align: right;\">\n",
       "      <th></th>\n",
       "      <th>STAN</th>\n",
       "      <th>Count</th>\n",
       "      <th>Prior_probabilities</th>\n",
       "    </tr>\n",
       "  </thead>\n",
       "  <tbody>\n",
       "    <tr>\n",
       "      <th>0</th>\n",
       "      <td>AGAINST</td>\n",
       "      <td>829</td>\n",
       "      <td>0.411</td>\n",
       "    </tr>\n",
       "    <tr>\n",
       "      <th>1</th>\n",
       "      <td>FAVOR</td>\n",
       "      <td>807</td>\n",
       "      <td>0.400</td>\n",
       "    </tr>\n",
       "    <tr>\n",
       "      <th>2</th>\n",
       "      <td>NEUTRAL</td>\n",
       "      <td>380</td>\n",
       "      <td>0.188</td>\n",
       "    </tr>\n",
       "  </tbody>\n",
       "</table style=\"display:inline\">"
      ]
     },
     "metadata": {},
     "output_type": "display_data"
    }
   ],
   "source": [
    "print(\"Label Distribution in Training set   Label Distribution in Validation set   Label Distribution in Test set\")\n",
    "display_side_by_side(tr_label,val_label, test_label)"
   ]
  },
  {
   "cell_type": "markdown",
   "id": "cbe6baa3",
   "metadata": {},
   "source": [
    "# Catalan Dataset"
   ]
  },
  {
   "cell_type": "code",
   "execution_count": 10,
   "id": "e6c9bbdd",
   "metadata": {},
   "outputs": [
    {
     "data": {
      "text/html": [
       "<div>\n",
       "<style scoped>\n",
       "    .dataframe tbody tr th:only-of-type {\n",
       "        vertical-align: middle;\n",
       "    }\n",
       "\n",
       "    .dataframe tbody tr th {\n",
       "        vertical-align: top;\n",
       "    }\n",
       "\n",
       "    .dataframe thead th {\n",
       "        text-align: right;\n",
       "    }\n",
       "</style>\n",
       "<table border=\"1\" class=\"dataframe\">\n",
       "  <thead>\n",
       "    <tr style=\"text-align: right;\">\n",
       "      <th></th>\n",
       "      <th>id_str</th>\n",
       "      <th>TWEET</th>\n",
       "      <th>LABEL</th>\n",
       "    </tr>\n",
       "  </thead>\n",
       "  <tbody>\n",
       "    <tr>\n",
       "      <th>0</th>\n",
       "      <td>11028517837209518e+18</td>\n",
       "      <td>En @fgarrobo ha fet més per l’independentisme ...</td>\n",
       "      <td>AGAINST</td>\n",
       "    </tr>\n",
       "    <tr>\n",
       "      <th>1</th>\n",
       "      <td>1098892781681082368</td>\n",
       "      <td>Divendres 22F acte Cloenda campanya de les can...</td>\n",
       "      <td>FAVOR</td>\n",
       "    </tr>\n",
       "    <tr>\n",
       "      <th>2</th>\n",
       "      <td>10990323264895959e+18</td>\n",
       "      <td>Puigdemont porta a la Defensora del Poble euro...</td>\n",
       "      <td>NEUTRAL</td>\n",
       "    </tr>\n",
       "    <tr>\n",
       "      <th>3</th>\n",
       "      <td>110251884676898e+18</td>\n",
       "      <td>José Antonio Nieto, ex-secretari d'Estat de Se...</td>\n",
       "      <td>NEUTRAL</td>\n",
       "    </tr>\n",
       "    <tr>\n",
       "      <th>4</th>\n",
       "      <td>1093081744193081344</td>\n",
       "      <td>Es passen dies denunciant l'autocar amb que va...</td>\n",
       "      <td>FAVOR</td>\n",
       "    </tr>\n",
       "  </tbody>\n",
       "</table>\n",
       "</div>"
      ],
      "text/plain": [
       "                  id_str                                              TWEET  \\\n",
       "0  11028517837209518e+18  En @fgarrobo ha fet més per l’independentisme ...   \n",
       "1    1098892781681082368  Divendres 22F acte Cloenda campanya de les can...   \n",
       "2  10990323264895959e+18  Puigdemont porta a la Defensora del Poble euro...   \n",
       "3    110251884676898e+18  José Antonio Nieto, ex-secretari d'Estat de Se...   \n",
       "4    1093081744193081344  Es passen dies denunciant l'autocar amb que va...   \n",
       "\n",
       "     LABEL  \n",
       "0  AGAINST  \n",
       "1    FAVOR  \n",
       "2  NEUTRAL  \n",
       "3  NEUTRAL  \n",
       "4    FAVOR  "
      ]
     },
     "execution_count": 10,
     "metadata": {},
     "output_type": "execute_result"
    }
   ],
   "source": [
    "#training data - catalan\n",
    "catalan_train = pd.read_csv('catalonia-independence-corpus-master/catalan_train.csv', \n",
    "                            dtype={'id_str': 'str'}, sep='\\t', encoding=\"utf-8\")\n",
    "catalan_train.head(5)                           # Check the first 5 rows"
   ]
  },
  {
   "cell_type": "code",
   "execution_count": 11,
   "id": "87b9c5e7",
   "metadata": {},
   "outputs": [
    {
     "data": {
      "text/html": [
       "<div>\n",
       "<style scoped>\n",
       "    .dataframe tbody tr th:only-of-type {\n",
       "        vertical-align: middle;\n",
       "    }\n",
       "\n",
       "    .dataframe tbody tr th {\n",
       "        vertical-align: top;\n",
       "    }\n",
       "\n",
       "    .dataframe thead th {\n",
       "        text-align: right;\n",
       "    }\n",
       "</style>\n",
       "<table border=\"1\" class=\"dataframe\">\n",
       "  <thead>\n",
       "    <tr style=\"text-align: right;\">\n",
       "      <th></th>\n",
       "      <th>id_str</th>\n",
       "      <th>TWEET</th>\n",
       "      <th>LABEL</th>\n",
       "    </tr>\n",
       "  </thead>\n",
       "  <tbody>\n",
       "    <tr>\n",
       "      <th>0</th>\n",
       "      <td>1096086953441849344</td>\n",
       "      <td>@laxarxaxanante1 @Capidja @Foxxthefox @estartu...</td>\n",
       "      <td>FAVOR</td>\n",
       "    </tr>\n",
       "    <tr>\n",
       "      <th>1</th>\n",
       "      <td>11029292541808067e+18</td>\n",
       "      <td>Els organitzadors del  Tanga! Party  de Madrid...</td>\n",
       "      <td>NEUTRAL</td>\n",
       "    </tr>\n",
       "    <tr>\n",
       "      <th>2</th>\n",
       "      <td>10974561257530737e+18</td>\n",
       "      <td>@Gemma51185456 @oriolguellipuig @OusmanJK Deus...</td>\n",
       "      <td>AGAINST</td>\n",
       "    </tr>\n",
       "    <tr>\n",
       "      <th>3</th>\n",
       "      <td>1102455901800333312</td>\n",
       "      <td>🗳 #Municipals2019BCN | Ferran Mascarell presen...</td>\n",
       "      <td>FAVOR</td>\n",
       "    </tr>\n",
       "    <tr>\n",
       "      <th>4</th>\n",
       "      <td>10993884228993311e+18</td>\n",
       "      <td>El president Puigdemont reitera des de Waterlo...</td>\n",
       "      <td>NEUTRAL</td>\n",
       "    </tr>\n",
       "  </tbody>\n",
       "</table>\n",
       "</div>"
      ],
      "text/plain": [
       "                  id_str                                              TWEET  \\\n",
       "0    1096086953441849344  @laxarxaxanante1 @Capidja @Foxxthefox @estartu...   \n",
       "1  11029292541808067e+18  Els organitzadors del  Tanga! Party  de Madrid...   \n",
       "2  10974561257530737e+18  @Gemma51185456 @oriolguellipuig @OusmanJK Deus...   \n",
       "3    1102455901800333312  🗳 #Municipals2019BCN | Ferran Mascarell presen...   \n",
       "4  10993884228993311e+18  El president Puigdemont reitera des de Waterlo...   \n",
       "\n",
       "     LABEL  \n",
       "0    FAVOR  \n",
       "1  NEUTRAL  \n",
       "2  AGAINST  \n",
       "3    FAVOR  \n",
       "4  NEUTRAL  "
      ]
     },
     "execution_count": 11,
     "metadata": {},
     "output_type": "execute_result"
    }
   ],
   "source": [
    "#Validation data - catalan\n",
    "catalan_val = pd.read_csv('catalonia-independence-corpus-master/catalan_val.csv', \n",
    "                            dtype={'id_str': 'str'}, sep='\\t', encoding=\"utf-8\")\n",
    "catalan_val.head(5)                           # Check the first 5 rows"
   ]
  },
  {
   "cell_type": "code",
   "execution_count": 12,
   "id": "01a717d8",
   "metadata": {},
   "outputs": [
    {
     "data": {
      "text/html": [
       "<div>\n",
       "<style scoped>\n",
       "    .dataframe tbody tr th:only-of-type {\n",
       "        vertical-align: middle;\n",
       "    }\n",
       "\n",
       "    .dataframe tbody tr th {\n",
       "        vertical-align: top;\n",
       "    }\n",
       "\n",
       "    .dataframe thead th {\n",
       "        text-align: right;\n",
       "    }\n",
       "</style>\n",
       "<table border=\"1\" class=\"dataframe\">\n",
       "  <thead>\n",
       "    <tr style=\"text-align: right;\">\n",
       "      <th></th>\n",
       "      <th>id_str</th>\n",
       "      <th>TWEET</th>\n",
       "      <th>LABEL</th>\n",
       "    </tr>\n",
       "  </thead>\n",
       "  <tbody>\n",
       "    <tr>\n",
       "      <th>0</th>\n",
       "      <td>1038342172855156736</td>\n",
       "      <td>Albert Rivera està desesperat. La sort se li h...</td>\n",
       "      <td>FAVOR</td>\n",
       "    </tr>\n",
       "    <tr>\n",
       "      <th>1</th>\n",
       "      <td>10931955909792809e+18</td>\n",
       "      <td>RT @CUPestatcatala: si hi ha intervenció milit...</td>\n",
       "      <td>NEUTRAL</td>\n",
       "    </tr>\n",
       "    <tr>\n",
       "      <th>2</th>\n",
       "      <td>11029689102808842e+18</td>\n",
       "      <td>Avui, tot l'alumnat de #2ESO ha cuinat crêpes ...</td>\n",
       "      <td>AGAINST</td>\n",
       "    </tr>\n",
       "    <tr>\n",
       "      <th>3</th>\n",
       "      <td>1037684363465515010</td>\n",
       "      <td>RT @AlbanoDante76: Mitja hora més tard Carme F...</td>\n",
       "      <td>FAVOR</td>\n",
       "    </tr>\n",
       "    <tr>\n",
       "      <th>4</th>\n",
       "      <td>1097583542794625e+18</td>\n",
       "      <td>Moltes gràcies a tots i totes les assistents, ...</td>\n",
       "      <td>AGAINST</td>\n",
       "    </tr>\n",
       "  </tbody>\n",
       "</table>\n",
       "</div>"
      ],
      "text/plain": [
       "                  id_str                                              TWEET  \\\n",
       "0    1038342172855156736  Albert Rivera està desesperat. La sort se li h...   \n",
       "1  10931955909792809e+18  RT @CUPestatcatala: si hi ha intervenció milit...   \n",
       "2  11029689102808842e+18  Avui, tot l'alumnat de #2ESO ha cuinat crêpes ...   \n",
       "3    1037684363465515010  RT @AlbanoDante76: Mitja hora més tard Carme F...   \n",
       "4   1097583542794625e+18  Moltes gràcies a tots i totes les assistents, ...   \n",
       "\n",
       "     LABEL  \n",
       "0    FAVOR  \n",
       "1  NEUTRAL  \n",
       "2  AGAINST  \n",
       "3    FAVOR  \n",
       "4  AGAINST  "
      ]
     },
     "execution_count": 12,
     "metadata": {},
     "output_type": "execute_result"
    }
   ],
   "source": [
    "#Test data - catalan\n",
    "catalan_test = pd.read_csv('catalonia-independence-corpus-master/catalan_test.csv', \n",
    "                            dtype={'id_str': 'str'}, sep='\\t', encoding=\"utf-8\")\n",
    "catalan_test.head(5)                           # Check the first 5 rows"
   ]
  },
  {
   "cell_type": "code",
   "execution_count": 13,
   "id": "1b5677c6",
   "metadata": {},
   "outputs": [
    {
     "name": "stdout",
     "output_type": "stream",
     "text": [
      "Training Data Counter({'AGAINST': 2416, 'FAVOR': 2335, 'NEUTRAL': 1277})\n",
      "Validation Data Counter({'AGAINST': 820, 'FAVOR': 763, 'NEUTRAL': 427})\n",
      "Test Data Counter({'FAVOR': 804, 'AGAINST': 752, 'NEUTRAL': 454})\n"
     ]
    }
   ],
   "source": [
    "tr_label_counts = collections.Counter(catalan_train['LABEL'])\n",
    "print(\"Training Data\", tr_label_counts)\n",
    "\n",
    "val_label_counts = collections.Counter(catalan_val['LABEL'])\n",
    "print(\"Validation Data\", val_label_counts)\n",
    "\n",
    "test_label_counts = collections.Counter(catalan_test['LABEL'])\n",
    "print(\"Test Data\", test_label_counts)"
   ]
  },
  {
   "cell_type": "code",
   "execution_count": 14,
   "id": "ddf398f5",
   "metadata": {},
   "outputs": [
    {
     "data": {
      "image/png": "[encoded data removed]",
      "text/plain": [
       "<Figure size 1440x360 with 3 Axes>"
      ]
     },
     "metadata": {
      "needs_background": "light"
     },
     "output_type": "display_data"
    }
   ],
   "source": [
    "figure, axes = plt.subplots(1, 3,figsize=(20,5))\n",
    "\n",
    "tr_list=[]\n",
    "for label in tr_label_counts:\n",
    "  tr_list.append([label,tr_label_counts[label],np.round(tr_label_counts[label] / len(catalan_train),3)])\n",
    "tr_label = pd.DataFrame(tr_list,columns=['STAN','Count','Prior_probabilities'])\n",
    "tr_label.plot.bar(x='STAN', y='Count', ax=axes[0])\n",
    "axes[0].title.set_text(\"Distribution of stans in the Catalan Training set \")\n",
    "\n",
    "val_list=[]\n",
    "for label in val_label_counts:\n",
    "  val_list.append([label,val_label_counts[label],np.round(val_label_counts[label] / len(catalan_val),3)])\n",
    "val_label = pd.DataFrame(val_list,columns=['STAN','Count','Prior_probabilities'])\n",
    "val_label.plot.bar(x='STAN', y='Count', ax=axes[1])\n",
    "axes[1].title.set_text(\"Distribution of stans in the Catalan Validation set \")\n",
    "\n",
    "test_list=[]\n",
    "for label in test_label_counts:\n",
    "  test_list.append([label,test_label_counts[label],np.round(test_label_counts[label] / len(catalan_test),3)])\n",
    "test_label = pd.DataFrame(test_list,columns=['STAN','Count','Prior_probabilities'])\n",
    "test_label.plot.bar(x='STAN', y='Count', ax=axes[2])\n",
    "axes[2].title.set_text(\"Distribution of stans in the Catalan Test set \")"
   ]
  },
  {
   "cell_type": "code",
   "execution_count": 15,
   "id": "834ecf76",
   "metadata": {},
   "outputs": [
    {
     "name": "stdout",
     "output_type": "stream",
     "text": [
      "Label Distribution-Training set   Label Distribution-Validation set   Label Distribution-Test set\n"
     ]
    },
    {
     "data": {
      "text/html": [
       "<table style=\"display:inline\" border=\"1\" class=\"dataframe\">\n",
       "  <thead>\n",
       "    <tr style=\"text-align: right;\">\n",
       "      <th></th>\n",
       "      <th>STAN</th>\n",
       "      <th>Count</th>\n",
       "      <th>Prior_probabilities</th>\n",
       "    </tr>\n",
       "  </thead>\n",
       "  <tbody>\n",
       "    <tr>\n",
       "      <th>0</th>\n",
       "      <td>AGAINST</td>\n",
       "      <td>2416</td>\n",
       "      <td>0.401</td>\n",
       "    </tr>\n",
       "    <tr>\n",
       "      <th>1</th>\n",
       "      <td>FAVOR</td>\n",
       "      <td>2335</td>\n",
       "      <td>0.387</td>\n",
       "    </tr>\n",
       "    <tr>\n",
       "      <th>2</th>\n",
       "      <td>NEUTRAL</td>\n",
       "      <td>1277</td>\n",
       "      <td>0.212</td>\n",
       "    </tr>\n",
       "  </tbody>\n",
       "</table style=\"display:inline\"><table style=\"display:inline\" border=\"1\" class=\"dataframe\">\n",
       "  <thead>\n",
       "    <tr style=\"text-align: right;\">\n",
       "      <th></th>\n",
       "      <th>STAN</th>\n",
       "      <th>Count</th>\n",
       "      <th>Prior_probabilities</th>\n",
       "    </tr>\n",
       "  </thead>\n",
       "  <tbody>\n",
       "    <tr>\n",
       "      <th>0</th>\n",
       "      <td>FAVOR</td>\n",
       "      <td>763</td>\n",
       "      <td>0.380</td>\n",
       "    </tr>\n",
       "    <tr>\n",
       "      <th>1</th>\n",
       "      <td>NEUTRAL</td>\n",
       "      <td>427</td>\n",
       "      <td>0.212</td>\n",
       "    </tr>\n",
       "    <tr>\n",
       "      <th>2</th>\n",
       "      <td>AGAINST</td>\n",
       "      <td>820</td>\n",
       "      <td>0.408</td>\n",
       "    </tr>\n",
       "  </tbody>\n",
       "</table style=\"display:inline\"><table style=\"display:inline\" border=\"1\" class=\"dataframe\">\n",
       "  <thead>\n",
       "    <tr style=\"text-align: right;\">\n",
       "      <th></th>\n",
       "      <th>STAN</th>\n",
       "      <th>Count</th>\n",
       "      <th>Prior_probabilities</th>\n",
       "    </tr>\n",
       "  </thead>\n",
       "  <tbody>\n",
       "    <tr>\n",
       "      <th>0</th>\n",
       "      <td>FAVOR</td>\n",
       "      <td>804</td>\n",
       "      <td>0.400</td>\n",
       "    </tr>\n",
       "    <tr>\n",
       "      <th>1</th>\n",
       "      <td>NEUTRAL</td>\n",
       "      <td>454</td>\n",
       "      <td>0.226</td>\n",
       "    </tr>\n",
       "    <tr>\n",
       "      <th>2</th>\n",
       "      <td>AGAINST</td>\n",
       "      <td>752</td>\n",
       "      <td>0.374</td>\n",
       "    </tr>\n",
       "  </tbody>\n",
       "</table style=\"display:inline\">"
      ]
     },
     "metadata": {},
     "output_type": "display_data"
    }
   ],
   "source": [
    "print(\"Label Distribution-Training set   Label Distribution-Validation set   Label Distribution-Test set\")\n",
    "display_side_by_side(tr_label,val_label, test_label)"
   ]
  },
  {
   "cell_type": "markdown",
   "id": "1908b00a",
   "metadata": {},
   "source": [
    "# Spanish & Catalan - Combined"
   ]
  },
  {
   "cell_type": "code",
   "execution_count": 16,
   "id": "866d3692",
   "metadata": {},
   "outputs": [
    {
     "name": "stdout",
     "output_type": "stream",
     "text": [
      "  language  AGAINST  FAVOR  NEUTRAL\n",
      "0  Spanish     2420   2515     1111\n",
      "\n",
      "\n",
      "  language  AGAINST  FAVOR  NEUTRAL\n",
      "0  Catalan     2416   2335     1277\n"
     ]
    }
   ],
   "source": [
    "train_frq = spanish_train.groupby(['LABEL']).size().reset_index()\n",
    "train_frq=train_frq.rename(columns={0:'Count'})\n",
    "train_frq['language'] ='Spanish'\n",
    "\n",
    "train_frq = pd.pivot_table(data=train_frq, index=['language'], columns=['LABEL'], values=['Count'])\n",
    "train_frq.reset_index(inplace=True)\n",
    "train_frq.columns = ['language', 'AGAINST','FAVOR','NEUTRAL']\n",
    "\n",
    "print(train_frq)\n",
    "print(\"\\n\")\n",
    "train_frq1 = catalan_train.groupby(['LABEL']).size().reset_index()\n",
    "train_frq1=train_frq1.rename(columns={0:'Count'})\n",
    "train_frq1['language'] ='Catalan'\n",
    "\n",
    "train_frq1 = pd.pivot_table(data=train_frq1, index=['language'], columns=['LABEL'], values=['Count'])\n",
    "train_frq1.reset_index(inplace=True)\n",
    "train_frq1.columns = ['language', 'AGAINST','FAVOR','NEUTRAL']\n",
    "\n",
    "print(train_frq1)"
   ]
  },
  {
   "cell_type": "code",
   "execution_count": 17,
   "id": "1d228074",
   "metadata": {},
   "outputs": [
    {
     "data": {
      "text/html": [
       "<div>\n",
       "<style scoped>\n",
       "    .dataframe tbody tr th:only-of-type {\n",
       "        vertical-align: middle;\n",
       "    }\n",
       "\n",
       "    .dataframe tbody tr th {\n",
       "        vertical-align: top;\n",
       "    }\n",
       "\n",
       "    .dataframe thead th {\n",
       "        text-align: right;\n",
       "    }\n",
       "</style>\n",
       "<table border=\"1\" class=\"dataframe\">\n",
       "  <thead>\n",
       "    <tr style=\"text-align: right;\">\n",
       "      <th></th>\n",
       "      <th>language</th>\n",
       "      <th>AGAINST</th>\n",
       "      <th>FAVOR</th>\n",
       "      <th>NEUTRAL</th>\n",
       "    </tr>\n",
       "  </thead>\n",
       "  <tbody>\n",
       "    <tr>\n",
       "      <th>0</th>\n",
       "      <td>Spanish</td>\n",
       "      <td>2420</td>\n",
       "      <td>2515</td>\n",
       "      <td>1111</td>\n",
       "    </tr>\n",
       "    <tr>\n",
       "      <th>0</th>\n",
       "      <td>Catalan</td>\n",
       "      <td>2416</td>\n",
       "      <td>2335</td>\n",
       "      <td>1277</td>\n",
       "    </tr>\n",
       "  </tbody>\n",
       "</table>\n",
       "</div>"
      ],
      "text/plain": [
       "  language  AGAINST  FAVOR  NEUTRAL\n",
       "0  Spanish     2420   2515     1111\n",
       "0  Catalan     2416   2335     1277"
      ]
     },
     "execution_count": 17,
     "metadata": {},
     "output_type": "execute_result"
    }
   ],
   "source": [
    "frames=[train_frq,train_frq1]\n",
    "train_final = pd.concat(frames)\n",
    "train_final"
   ]
  },
  {
   "cell_type": "code",
   "execution_count": 18,
   "id": "c53653cb",
   "metadata": {},
   "outputs": [
    {
     "name": "stdout",
     "output_type": "stream",
     "text": [
      "  language  AGAINST  FAVOR  NEUTRAL\n",
      "0  Spanish      856    782      377\n",
      "\n",
      "\n",
      "  language  AGAINST  FAVOR  NEUTRAL\n",
      "0  Catalan      820    763      427\n"
     ]
    }
   ],
   "source": [
    "val_frq = spanish_val.groupby(['LABEL']).size().reset_index()\n",
    "val_frq=val_frq.rename(columns={0:'Count'})\n",
    "val_frq['language'] ='Spanish'\n",
    "\n",
    "val_frq = pd.pivot_table(data=val_frq, index=['language'], columns=['LABEL'], values=['Count'])\n",
    "val_frq.reset_index(inplace=True)\n",
    "val_frq.columns = ['language', 'AGAINST','FAVOR','NEUTRAL']\n",
    "\n",
    "print(val_frq)\n",
    "print(\"\\n\")\n",
    "val_frq1 = catalan_val.groupby(['LABEL']).size().reset_index()\n",
    "val_frq1=val_frq1.rename(columns={0:'Count'})\n",
    "val_frq1['language'] ='Catalan'\n",
    "\n",
    "val_frq1 = pd.pivot_table(data=val_frq1, index=['language'], columns=['LABEL'], values=['Count'])\n",
    "val_frq1.reset_index(inplace=True)\n",
    "val_frq1.columns = ['language', 'AGAINST','FAVOR','NEUTRAL']\n",
    "\n",
    "print(val_frq1)"
   ]
  },
  {
   "cell_type": "code",
   "execution_count": 19,
   "id": "42a2a55c",
   "metadata": {},
   "outputs": [
    {
     "data": {
      "text/html": [
       "<div>\n",
       "<style scoped>\n",
       "    .dataframe tbody tr th:only-of-type {\n",
       "        vertical-align: middle;\n",
       "    }\n",
       "\n",
       "    .dataframe tbody tr th {\n",
       "        vertical-align: top;\n",
       "    }\n",
       "\n",
       "    .dataframe thead th {\n",
       "        text-align: right;\n",
       "    }\n",
       "</style>\n",
       "<table border=\"1\" class=\"dataframe\">\n",
       "  <thead>\n",
       "    <tr style=\"text-align: right;\">\n",
       "      <th></th>\n",
       "      <th>language</th>\n",
       "      <th>AGAINST</th>\n",
       "      <th>FAVOR</th>\n",
       "      <th>NEUTRAL</th>\n",
       "    </tr>\n",
       "  </thead>\n",
       "  <tbody>\n",
       "    <tr>\n",
       "      <th>0</th>\n",
       "      <td>Spanish</td>\n",
       "      <td>856</td>\n",
       "      <td>782</td>\n",
       "      <td>377</td>\n",
       "    </tr>\n",
       "    <tr>\n",
       "      <th>0</th>\n",
       "      <td>Catalan</td>\n",
       "      <td>820</td>\n",
       "      <td>763</td>\n",
       "      <td>427</td>\n",
       "    </tr>\n",
       "  </tbody>\n",
       "</table>\n",
       "</div>"
      ],
      "text/plain": [
       "  language  AGAINST  FAVOR  NEUTRAL\n",
       "0  Spanish      856    782      377\n",
       "0  Catalan      820    763      427"
      ]
     },
     "execution_count": 19,
     "metadata": {},
     "output_type": "execute_result"
    }
   ],
   "source": [
    "frames=[val_frq,val_frq1]\n",
    "val_final = pd.concat(frames)\n",
    "val_final"
   ]
  },
  {
   "cell_type": "code",
   "execution_count": 20,
   "id": "f307704c",
   "metadata": {},
   "outputs": [
    {
     "name": "stdout",
     "output_type": "stream",
     "text": [
      "  language  AGAINST  FAVOR  NEUTRAL\n",
      "0  Spanish      829    807      380\n",
      "\n",
      "\n",
      "  language  AGAINST  FAVOR  NEUTRAL\n",
      "0  Catalan      752    804      454\n"
     ]
    }
   ],
   "source": [
    "test_frq = spanish_test.groupby(['LABEL']).size().reset_index()\n",
    "test_frq=test_frq.rename(columns={0:'Count'})\n",
    "test_frq['language'] ='Spanish'\n",
    "\n",
    "test_frq = pd.pivot_table(data=test_frq, index=['language'], columns=['LABEL'], values=['Count'])\n",
    "test_frq.reset_index(inplace=True)\n",
    "test_frq.columns = ['language', 'AGAINST','FAVOR','NEUTRAL']\n",
    "\n",
    "print(test_frq)\n",
    "print(\"\\n\")\n",
    "test_frq1 = catalan_test.groupby(['LABEL']).size().reset_index()\n",
    "test_frq1=test_frq1.rename(columns={0:'Count'})\n",
    "test_frq1['language'] ='Catalan'\n",
    "\n",
    "test_frq1 = pd.pivot_table(data=test_frq1, index=['language'], columns=['LABEL'], values=['Count'])\n",
    "test_frq1.reset_index(inplace=True)\n",
    "test_frq1.columns = ['language', 'AGAINST','FAVOR','NEUTRAL']\n",
    "\n",
    "print(test_frq1)"
   ]
  },
  {
   "cell_type": "code",
   "execution_count": 21,
   "id": "b535a2b6",
   "metadata": {},
   "outputs": [
    {
     "data": {
      "text/html": [
       "<div>\n",
       "<style scoped>\n",
       "    .dataframe tbody tr th:only-of-type {\n",
       "        vertical-align: middle;\n",
       "    }\n",
       "\n",
       "    .dataframe tbody tr th {\n",
       "        vertical-align: top;\n",
       "    }\n",
       "\n",
       "    .dataframe thead th {\n",
       "        text-align: right;\n",
       "    }\n",
       "</style>\n",
       "<table border=\"1\" class=\"dataframe\">\n",
       "  <thead>\n",
       "    <tr style=\"text-align: right;\">\n",
       "      <th></th>\n",
       "      <th>language</th>\n",
       "      <th>AGAINST</th>\n",
       "      <th>FAVOR</th>\n",
       "      <th>NEUTRAL</th>\n",
       "    </tr>\n",
       "  </thead>\n",
       "  <tbody>\n",
       "    <tr>\n",
       "      <th>0</th>\n",
       "      <td>Spanish</td>\n",
       "      <td>829</td>\n",
       "      <td>807</td>\n",
       "      <td>380</td>\n",
       "    </tr>\n",
       "    <tr>\n",
       "      <th>0</th>\n",
       "      <td>Catalan</td>\n",
       "      <td>752</td>\n",
       "      <td>804</td>\n",
       "      <td>454</td>\n",
       "    </tr>\n",
       "  </tbody>\n",
       "</table>\n",
       "</div>"
      ],
      "text/plain": [
       "  language  AGAINST  FAVOR  NEUTRAL\n",
       "0  Spanish      829    807      380\n",
       "0  Catalan      752    804      454"
      ]
     },
     "execution_count": 21,
     "metadata": {},
     "output_type": "execute_result"
    }
   ],
   "source": [
    "frames=[test_frq,test_frq1]\n",
    "test_final = pd.concat(frames)\n",
    "test_final"
   ]
  },
  {
   "cell_type": "code",
   "execution_count": 22,
   "id": "4671fcd4",
   "metadata": {},
   "outputs": [
    {
     "data": {
      "text/plain": [
       "<AxesSubplot:title={'center':'Test Set'}, xlabel='language'>"
      ]
     },
     "execution_count": 22,
     "metadata": {},
     "output_type": "execute_result"
    },
    {
     "data": {
      "image/png": "[encoded data removed]",
      "text/plain": [
       "<Figure size 1440x360 with 3 Axes>"
      ]
     },
     "metadata": {
      "needs_background": "light"
     },
     "output_type": "display_data"
    }
   ],
   "source": [
    "fig, axes = plt.subplots(1,3, figsize=(20,5))\n",
    "\n",
    "train_final.plot(x='language', y=['AGAINST','FAVOR','NEUTRAL'], kind='bar', ax=axes[0], title='Training Set')\n",
    "val_final.plot(x='language', y=['AGAINST','FAVOR','NEUTRAL'], kind='bar', ax=axes[1], title='Validation Set')\n",
    "test_final.plot(x=\"language\", y=[\"AGAINST\", \"FAVOR\",'NEUTRAL'], kind=\"bar\", ax=axes[2], title='Test Set')"
   ]
  },
  {
   "cell_type": "code",
   "execution_count": null,
   "id": "771d7200",
   "metadata": {},
   "outputs": [],
   "source": []
  }
 ],
 "metadata": {
  "kernelspec": {
   "display_name": "Python 3",
   "language": "python",
   "name": "python3"
  },
  "language_info": {
   "codemirror_mode": {
    "name": "ipython",
    "version": 3
   },
   "file_extension": ".py",
   "mimetype": "text/x-python",
   "name": "python",
   "nbconvert_exporter": "python",
   "pygments_lexer": "ipython3",
   "version": "3.8.8"
  }
 },
 "nbformat": 4,
 "nbformat_minor": 5
}
