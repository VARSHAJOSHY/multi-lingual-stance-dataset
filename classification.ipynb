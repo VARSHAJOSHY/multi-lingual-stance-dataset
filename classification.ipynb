{
  "cells": [
    {
      "cell_type": "markdown",
      "metadata": {
        "id": "view-in-github",
        "colab_type": "text"
      },
      "source": [
        "<a href=\"https://colab.research.google.com/github/VARSHAJOSHY/multi-lingual-stance-dataset/blob/main/classification.ipynb\" target=\"_parent\"><img src=\"https://colab.research.google.com/assets/colab-badge.svg\" alt=\"Open In Colab\"/></a>"
      ]
    },
    {
      "cell_type": "markdown",
      "metadata": {
        "id": "SqrpBxlL-VR8"
      },
      "source": [
        "\n",
        "**Name:** VARSHA JOSHY\n",
        "\n",
        "**Student Number:** 2699662J"
      ]
    },
    {
      "cell_type": "markdown",
      "metadata": {
        "id": "SWZ4t4Ut91ur"
      },
      "source": [
        "# **TextAs Data Coursework**"
      ]
    },
    {
      "cell_type": "markdown",
      "metadata": {
        "id": "DyFYH3v7-ix0"
      },
      "source": [
        "## **Downloading and loading Data**\n",
        "\n",
        "**This code loads the prepared split of the Reddit data into training, validation and testing set.**"
      ]
    },
    {
      "cell_type": "code",
      "execution_count": null,
      "metadata": {
        "colab": {
          "base_uri": "https://localhost:8080/"
        },
        "id": "tG_zJqYH9sTd",
        "outputId": "27395a45-cebe-4903-ae0b-8aaadc75c024"
      },
      "outputs": [
        {
          "output_type": "stream",
          "name": "stdout",
          "text": [
            "--2022-07-14 16:27:38--  https://gla-my.sharepoint.com/:u:/g/personal/jake_lever_glasgow_ac_uk/EapVNOIV84tPnQuuFBNgG9UBYIWipQ9JL4QTfSgRtIacBw?download=1\n",
            "Resolving gla-my.sharepoint.com (gla-my.sharepoint.com)... 13.107.136.9, 13.107.138.9\n",
            "Connecting to gla-my.sharepoint.com (gla-my.sharepoint.com)|13.107.136.9|:443... connected.\n",
            "HTTP request sent, awaiting response... 302 Found\n",
            "Location: /personal/jake_lever_glasgow_ac_uk/Documents/Teaching/reddit_data_split.zip?ga=1 [following]\n",
            "--2022-07-14 16:27:39--  https://gla-my.sharepoint.com/personal/jake_lever_glasgow_ac_uk/Documents/Teaching/reddit_data_split.zip?ga=1\n",
            "Reusing existing connection to gla-my.sharepoint.com:443.\n",
            "HTTP request sent, awaiting response... 200 OK\n",
            "Length: 468327 (457K) [application/x-zip-compressed]\n",
            "Saving to: ‘reddit_data_split.zip’\n",
            "\n",
            "reddit_data_split.z 100%[===================>] 457.35K   694KB/s    in 0.7s    \n",
            "\n",
            "2022-07-14 16:27:40 (694 KB/s) - ‘reddit_data_split.zip’ saved [468327/468327]\n",
            "\n",
            "Archive:  reddit_data_split.zip\n",
            "  inflating: reddit_test.json        \n",
            "  inflating: reddit_train.json       \n",
            "  inflating: reddit_val.json         \n"
          ]
        }
      ],
      "source": [
        "!wget -O reddit_data_split.zip https://gla-my.sharepoint.com/:u:/g/personal/jake_lever_glasgow_ac_uk/EapVNOIV84tPnQuuFBNgG9UBYIWipQ9JL4QTfSgRtIacBw?download=1\n",
        "!unzip -o reddit_data_split.zip"
      ]
    },
    {
      "cell_type": "code",
      "execution_count": null,
      "metadata": {
        "colab": {
          "base_uri": "https://localhost:8080/"
        },
        "id": "xCezGTgdRYkj",
        "outputId": "3a941aa2-0694-4b24-b751-03abc9de510b"
      },
      "outputs": [
        {
          "output_type": "stream",
          "name": "stdout",
          "text": [
            "Number of posts in training data: 1200\n",
            "Number of posts in validation data: 400\n",
            "Number of posts in test data: 400\n"
          ]
        }
      ],
      "source": [
        "import json\n",
        "\n",
        "with open('reddit_train.json') as f:\n",
        "    train_data = json.load(f)\n",
        "with open('reddit_val.json') as f:\n",
        "    validation_data = json.load(f)\n",
        "with open('reddit_test.json') as f:\n",
        "    test_data = json.load(f)\n",
        "\n",
        "print(\"Number of posts in training data:\", len(train_data))\n",
        "print(\"Number of posts in validation data:\", len(validation_data))\n",
        "print(\"Number of posts in test data:\", len(test_data))"
      ]
    },
    {
      "cell_type": "markdown",
      "metadata": {
        "id": "DzmCpxLYbdOI"
      },
      "source": [
        "**This code block download libraries/functions from various modules that are required to execute the collab/notebook**"
      ]
    },
    {
      "cell_type": "code",
      "execution_count": null,
      "metadata": {
        "colab": {
          "base_uri": "https://localhost:8080/"
        },
        "id": "d1Qw1AzsbZjV",
        "outputId": "f6543f3b-c0db-472c-848c-c30525dac8f3"
      },
      "outputs": [
        {
          "output_type": "stream",
          "name": "stderr",
          "text": [
            "[nltk_data] Downloading package stopwords to /root/nltk_data...\n",
            "[nltk_data]   Package stopwords is already up-to-date!\n"
          ]
        }
      ],
      "source": [
        "import spacy\n",
        "import pandas as pd\n",
        "import collections\n",
        "\n",
        "# Load the medium english model.\n",
        "# We will use this model to get embedding features for tokens later.\n",
        "#!python -m spacy download en_core_web_md\n",
        "\n",
        "nlp = spacy.load('en_core_web_sm', disable=['ner'])\n",
        "nlp.remove_pipe('tagger')\n",
        "nlp.remove_pipe('parser')\n",
        "\n",
        "# Download a stopword list\n",
        "import nltk\n",
        "nltk.download('stopwords')\n",
        "from nltk.corpus import stopwords\n",
        "\n",
        "from sklearn.feature_extraction.text import CountVectorizer\n",
        "from sklearn.feature_extraction.text import TfidfVectorizer\n",
        "from sklearn.feature_extraction.text import HashingVectorizer\n",
        "\n",
        "from sklearn.dummy import DummyClassifier\n",
        "from sklearn.linear_model import LogisticRegression\n",
        "from sklearn import svm\n",
        "from sklearn.linear_model import SGDClassifier\n",
        "\n",
        "from sklearn.base import BaseEstimator, TransformerMixin\n",
        "\n",
        "from sklearn.metrics import classification_report\n",
        "from sklearn.metrics import confusion_matrix\n",
        "from sklearn.metrics import precision_score\n",
        "from sklearn.metrics import recall_score\n",
        "from sklearn.metrics import accuracy_score\n",
        "from sklearn.metrics import fbeta_score\n",
        "\n",
        "from sklearn.pipeline import Pipeline\n",
        "from sklearn.model_selection import GridSearchCV\n",
        "from sklearn.metrics import confusion_matrix, ConfusionMatrixDisplay\n",
        "from pprint import pprint\n",
        "from time import time\n",
        "import logging\n",
        "import numpy as np\n",
        "\n",
        "import warnings\n",
        "warnings.filterwarnings('ignore')\n",
        "\n",
        "from matplotlib import pyplot as plt\n",
        "#Python, pandas\n",
        "#Function on CSS created for this\n",
        "from IPython.display import display_html\n",
        "\n",
        "#custom tokenization\n",
        "import re\n",
        "from textblob import TextBlob\n",
        "from textblob import Word\n",
        "from bs4 import BeautifulSoup\n",
        "\n",
        "#gensim word2vec libraries\n",
        "import gensim.downloader as gensim_api\n",
        "import gensim\n",
        "from gensim.models import Word2Vec, KeyedVectors\n",
        "\n",
        "from sklearn.pipeline import Pipeline\n",
        "from gensim.sklearn_api import W2VTransformer"
      ]
    },
    {
      "cell_type": "markdown",
      "metadata": {
        "id": "7txBmrCG_tKr"
      },
      "source": [
        "## **Q1: Comparing Classifiers**"
      ]
    },
    {
      "cell_type": "markdown",
      "metadata": {
        "id": "iK9u5izk_wSh"
      },
      "source": [
        "#### **Q1a: Exploring Dataset**\n",
        "Calculate the counts for the various labels and comment on the distribution of labels in the training/validation/test sets"
      ]
    },
    {
      "cell_type": "markdown",
      "metadata": {
        "id": "TLL0ZNidd1dX"
      },
      "source": [
        "\n",
        "\n",
        "*   **Training Dataset**\n",
        "is used to train the model or fit the parameters to the model.\n",
        "\n"
      ]
    },
    {
      "cell_type": "code",
      "execution_count": null,
      "metadata": {
        "colab": {
          "base_uri": "https://localhost:8080/",
          "height": 441
        },
        "id": "kQRKOn5B2Drm",
        "outputId": "925d8e01-3026-4776-feaf-e2fae278cae2"
      },
      "outputs": [
        {
          "output_type": "stream",
          "name": "stdout",
          "text": [
            "We have 1200 Reddit posts in training dataset\n"
          ]
        },
        {
          "output_type": "execute_result",
          "data": {
            "text/plain": [
              "           subreddit                                              title  \\\n",
              "0                PS4  Can I get banned for having a game that I didn...   \n",
              "1           pcgaming      How to get a Kinect sensor to work with a PC?   \n",
              "2     NintendoSwitch               Switch Only Charges with GoPro Cable   \n",
              "3            antiMLM                   L’Occitane going down MLM route?   \n",
              "4        HydroHomies                              Guys i need your help   \n",
              "...              ...                                                ...   \n",
              "1195            xbox  I’m debating if I should get a PC or Xbox Seri...   \n",
              "1196          Coffee  Where can I buy several exotic or unique coffees?   \n",
              "1197             tea  What are some of y'all's favorite non-caffeina...   \n",
              "1198          Coffee            [Q] What pour over method should I try?   \n",
              "1199        pcgaming           Thoughts on the Asus G Series G5S3W-XN1?   \n",
              "\n",
              "      score      id            author  \\\n",
              "0         0  queqfu           XC-XERZ   \n",
              "1         0  1eujoa       ZachTheKing   \n",
              "2         5  m00bx7   BluePenguin2002   \n",
              "3        15  q13pvx   100fluffyclouds   \n",
              "4         2  rxiv2g    Epicskeleton53   \n",
              "...     ...     ...               ...   \n",
              "1195      2  m6a172          Matt3339   \n",
              "1196     10  3yvspn    victorlinguist   \n",
              "1197      5  bdlfo5    Bobthebanana73   \n",
              "1198      7  htwdo3  NorwegianWarlord   \n",
              "1199      6   iy1zg       aznegglover   \n",
              "\n",
              "                                                   body  \n",
              "0     Long story short, I saw ESO in my library, dow...  \n",
              "1     I have seen a video online where someone took ...  \n",
              "2     Hi, hope this is the right place/way to post t...  \n",
              "3     After buying a majority share in Limelight/Alc...  \n",
              "4     Is it ok for me to drink coffee in the morning...  \n",
              "...                                                 ...  \n",
              "1195  I do have some question as well.\\n1. Can the S...  \n",
              "1196  I am looking for an online place that will off...  \n",
              "1197  Due to medical reasons, I am currently not all...  \n",
              "1198  Hey all!\\nThe recent years I've learned to lov...  \n",
              "1199  http://www.newegg.com/Product/Product.aspx?Ite...  \n",
              "\n",
              "[1200 rows x 6 columns]"
            ],
            "text/html": [
              "\n",
              "  <div id=\"df-b26d02f5-43a1-40be-9677-eca0475f1a15\">\n",
              "    <div class=\"colab-df-container\">\n",
              "      <div>\n",
              "<style scoped>\n",
              "    .dataframe tbody tr th:only-of-type {\n",
              "        vertical-align: middle;\n",
              "    }\n",
              "\n",
              "    .dataframe tbody tr th {\n",
              "        vertical-align: top;\n",
              "    }\n",
              "\n",
              "    .dataframe thead th {\n",
              "        text-align: right;\n",
              "    }\n",
              "</style>\n",
              "<table border=\"1\" class=\"dataframe\">\n",
              "  <thead>\n",
              "    <tr style=\"text-align: right;\">\n",
              "      <th></th>\n",
              "      <th>subreddit</th>\n",
              "      <th>title</th>\n",
              "      <th>score</th>\n",
              "      <th>id</th>\n",
              "      <th>author</th>\n",
              "      <th>body</th>\n",
              "    </tr>\n",
              "  </thead>\n",
              "  <tbody>\n",
              "    <tr>\n",
              "      <th>0</th>\n",
              "      <td>PS4</td>\n",
              "      <td>Can I get banned for having a game that I didn...</td>\n",
              "      <td>0</td>\n",
              "      <td>queqfu</td>\n",
              "      <td>XC-XERZ</td>\n",
              "      <td>Long story short, I saw ESO in my library, dow...</td>\n",
              "    </tr>\n",
              "    <tr>\n",
              "      <th>1</th>\n",
              "      <td>pcgaming</td>\n",
              "      <td>How to get a Kinect sensor to work with a PC?</td>\n",
              "      <td>0</td>\n",
              "      <td>1eujoa</td>\n",
              "      <td>ZachTheKing</td>\n",
              "      <td>I have seen a video online where someone took ...</td>\n",
              "    </tr>\n",
              "    <tr>\n",
              "      <th>2</th>\n",
              "      <td>NintendoSwitch</td>\n",
              "      <td>Switch Only Charges with GoPro Cable</td>\n",
              "      <td>5</td>\n",
              "      <td>m00bx7</td>\n",
              "      <td>BluePenguin2002</td>\n",
              "      <td>Hi, hope this is the right place/way to post t...</td>\n",
              "    </tr>\n",
              "    <tr>\n",
              "      <th>3</th>\n",
              "      <td>antiMLM</td>\n",
              "      <td>L’Occitane going down MLM route?</td>\n",
              "      <td>15</td>\n",
              "      <td>q13pvx</td>\n",
              "      <td>100fluffyclouds</td>\n",
              "      <td>After buying a majority share in Limelight/Alc...</td>\n",
              "    </tr>\n",
              "    <tr>\n",
              "      <th>4</th>\n",
              "      <td>HydroHomies</td>\n",
              "      <td>Guys i need your help</td>\n",
              "      <td>2</td>\n",
              "      <td>rxiv2g</td>\n",
              "      <td>Epicskeleton53</td>\n",
              "      <td>Is it ok for me to drink coffee in the morning...</td>\n",
              "    </tr>\n",
              "    <tr>\n",
              "      <th>...</th>\n",
              "      <td>...</td>\n",
              "      <td>...</td>\n",
              "      <td>...</td>\n",
              "      <td>...</td>\n",
              "      <td>...</td>\n",
              "      <td>...</td>\n",
              "    </tr>\n",
              "    <tr>\n",
              "      <th>1195</th>\n",
              "      <td>xbox</td>\n",
              "      <td>I’m debating if I should get a PC or Xbox Seri...</td>\n",
              "      <td>2</td>\n",
              "      <td>m6a172</td>\n",
              "      <td>Matt3339</td>\n",
              "      <td>I do have some question as well.\\n1. Can the S...</td>\n",
              "    </tr>\n",
              "    <tr>\n",
              "      <th>1196</th>\n",
              "      <td>Coffee</td>\n",
              "      <td>Where can I buy several exotic or unique coffees?</td>\n",
              "      <td>10</td>\n",
              "      <td>3yvspn</td>\n",
              "      <td>victorlinguist</td>\n",
              "      <td>I am looking for an online place that will off...</td>\n",
              "    </tr>\n",
              "    <tr>\n",
              "      <th>1197</th>\n",
              "      <td>tea</td>\n",
              "      <td>What are some of y'all's favorite non-caffeina...</td>\n",
              "      <td>5</td>\n",
              "      <td>bdlfo5</td>\n",
              "      <td>Bobthebanana73</td>\n",
              "      <td>Due to medical reasons, I am currently not all...</td>\n",
              "    </tr>\n",
              "    <tr>\n",
              "      <th>1198</th>\n",
              "      <td>Coffee</td>\n",
              "      <td>[Q] What pour over method should I try?</td>\n",
              "      <td>7</td>\n",
              "      <td>htwdo3</td>\n",
              "      <td>NorwegianWarlord</td>\n",
              "      <td>Hey all!\\nThe recent years I've learned to lov...</td>\n",
              "    </tr>\n",
              "    <tr>\n",
              "      <th>1199</th>\n",
              "      <td>pcgaming</td>\n",
              "      <td>Thoughts on the Asus G Series G5S3W-XN1?</td>\n",
              "      <td>6</td>\n",
              "      <td>iy1zg</td>\n",
              "      <td>aznegglover</td>\n",
              "      <td>http://www.newegg.com/Product/Product.aspx?Ite...</td>\n",
              "    </tr>\n",
              "  </tbody>\n",
              "</table>\n",
              "<p>1200 rows × 6 columns</p>\n",
              "</div>\n",
              "      <button class=\"colab-df-convert\" onclick=\"convertToInteractive('df-b26d02f5-43a1-40be-9677-eca0475f1a15')\"\n",
              "              title=\"Convert this dataframe to an interactive table.\"\n",
              "              style=\"display:none;\">\n",
              "        \n",
              "  <svg xmlns=\"http://www.w3.org/2000/svg\" height=\"24px\"viewBox=\"0 0 24 24\"\n",
              "       width=\"24px\">\n",
              "    <path d=\"M0 0h24v24H0V0z\" fill=\"none\"/>\n",
              "    <path d=\"M18.56 5.44l.94 2.06.94-2.06 2.06-.94-2.06-.94-.94-2.06-.94 2.06-2.06.94zm-11 1L8.5 8.5l.94-2.06 2.06-.94-2.06-.94L8.5 2.5l-.94 2.06-2.06.94zm10 10l.94 2.06.94-2.06 2.06-.94-2.06-.94-.94-2.06-.94 2.06-2.06.94z\"/><path d=\"M17.41 7.96l-1.37-1.37c-.4-.4-.92-.59-1.43-.59-.52 0-1.04.2-1.43.59L10.3 9.45l-7.72 7.72c-.78.78-.78 2.05 0 2.83L4 21.41c.39.39.9.59 1.41.59.51 0 1.02-.2 1.41-.59l7.78-7.78 2.81-2.81c.8-.78.8-2.07 0-2.86zM5.41 20L4 18.59l7.72-7.72 1.47 1.35L5.41 20z\"/>\n",
              "  </svg>\n",
              "      </button>\n",
              "      \n",
              "  <style>\n",
              "    .colab-df-container {\n",
              "      display:flex;\n",
              "      flex-wrap:wrap;\n",
              "      gap: 12px;\n",
              "    }\n",
              "\n",
              "    .colab-df-convert {\n",
              "      background-color: #E8F0FE;\n",
              "      border: none;\n",
              "      border-radius: 50%;\n",
              "      cursor: pointer;\n",
              "      display: none;\n",
              "      fill: #1967D2;\n",
              "      height: 32px;\n",
              "      padding: 0 0 0 0;\n",
              "      width: 32px;\n",
              "    }\n",
              "\n",
              "    .colab-df-convert:hover {\n",
              "      background-color: #E2EBFA;\n",
              "      box-shadow: 0px 1px 2px rgba(60, 64, 67, 0.3), 0px 1px 3px 1px rgba(60, 64, 67, 0.15);\n",
              "      fill: #174EA6;\n",
              "    }\n",
              "\n",
              "    [theme=dark] .colab-df-convert {\n",
              "      background-color: #3B4455;\n",
              "      fill: #D2E3FC;\n",
              "    }\n",
              "\n",
              "    [theme=dark] .colab-df-convert:hover {\n",
              "      background-color: #434B5C;\n",
              "      box-shadow: 0px 1px 3px 1px rgba(0, 0, 0, 0.15);\n",
              "      filter: drop-shadow(0px 1px 2px rgba(0, 0, 0, 0.3));\n",
              "      fill: #FFFFFF;\n",
              "    }\n",
              "  </style>\n",
              "\n",
              "      <script>\n",
              "        const buttonEl =\n",
              "          document.querySelector('#df-b26d02f5-43a1-40be-9677-eca0475f1a15 button.colab-df-convert');\n",
              "        buttonEl.style.display =\n",
              "          google.colab.kernel.accessAllowed ? 'block' : 'none';\n",
              "\n",
              "        async function convertToInteractive(key) {\n",
              "          const element = document.querySelector('#df-b26d02f5-43a1-40be-9677-eca0475f1a15');\n",
              "          const dataTable =\n",
              "            await google.colab.kernel.invokeFunction('convertToInteractive',\n",
              "                                                     [key], {});\n",
              "          if (!dataTable) return;\n",
              "\n",
              "          const docLinkHtml = 'Like what you see? Visit the ' +\n",
              "            '<a target=\"_blank\" href=https://colab.research.google.com/notebooks/data_table.ipynb>data table notebook</a>'\n",
              "            + ' to learn more about interactive tables.';\n",
              "          element.innerHTML = '';\n",
              "          dataTable['output_type'] = 'display_data';\n",
              "          await google.colab.output.renderOutput(dataTable, element);\n",
              "          const docLink = document.createElement('div');\n",
              "          docLink.innerHTML = docLinkHtml;\n",
              "          element.appendChild(docLink);\n",
              "        }\n",
              "      </script>\n",
              "    </div>\n",
              "  </div>\n",
              "  "
            ]
          },
          "metadata": {},
          "execution_count": 4
        }
      ],
      "source": [
        "collabels = ['subreddit', 'title', 'score', 'id', 'author','body']\n",
        "train_data_list = list()\n",
        "for pos, item in enumerate(train_data):\n",
        "    train_data_list.append( (train_data[pos]['subreddit'], train_data[pos]['title'], train_data[pos]['score'], train_data[pos]['id'], train_data[pos]['author'], train_data[pos]['body']))\n",
        "print(\"We have %d Reddit posts in training dataset\"  % len(train_data_list))\n",
        "train_data_df = pd.DataFrame(train_data_list, columns=collabels)\n",
        "train_data_df"
      ]
    },
    {
      "cell_type": "markdown",
      "metadata": {
        "id": "vEln2KBJkU2a"
      },
      "source": [
        "\n",
        "*   **Validation Dataset**\n",
        "is used to provide an unbiased evaluation of a model fitted on the training dataset as well as tuning hyperparameters"
      ]
    },
    {
      "cell_type": "code",
      "execution_count": null,
      "metadata": {
        "colab": {
          "base_uri": "https://localhost:8080/",
          "height": 441
        },
        "id": "6boLcMbfkEXC",
        "outputId": "8e3dad50-a993-419e-a67e-df2ffce755e3"
      },
      "outputs": [
        {
          "output_type": "stream",
          "name": "stdout",
          "text": [
            "We have 400 Reddit posts in validation dataset\n"
          ]
        },
        {
          "output_type": "execute_result",
          "data": {
            "text/plain": [
              "       subreddit                                              title  score  \\\n",
              "0         Coffee                            Reusable Nespresso Pods      3   \n",
              "1    HydroHomies  Hydro News (sad) A city in US Michigan, Benton...      8   \n",
              "2           Soda  Can’t find Sprite Zero Sugar Winter Spiced Cra...      2   \n",
              "3            tea  I have a lot of teas, loose and in bags, that ...     11   \n",
              "4         Coffee    Should I rinse bamboo filters before pour over?      0   \n",
              "..           ...                                                ...    ...   \n",
              "395         Soda  Where and How can i preserve collectable sodas...      0   \n",
              "396         Soda                   What American Soda should I get?      2   \n",
              "397         xbox                     refund bought with a gift card      3   \n",
              "398          PS4                                GTA V install crash      0   \n",
              "399          tea  I'm fairly new to the world of tea. Getting of...      4   \n",
              "\n",
              "         id               author  \\\n",
              "0    j4d0i9           SaltyRob78   \n",
              "1    q6lb22         Kirinsdragon   \n",
              "2    rs0qmb      AnonymousPete23   \n",
              "3    egwnfh  T_as_in_Pterodactyl   \n",
              "4    pkxx4y             jack_hof   \n",
              "..      ...                  ...   \n",
              "395  lvjhhw            Pokeboy99   \n",
              "396  kuo4ky   Old_Advantage_2341   \n",
              "397  rtvh45           SwingStuff   \n",
              "398  legirx           firewolf37   \n",
              "399  mz2kcv     frijolita_bonita   \n",
              "\n",
              "                                                  body  \n",
              "0    Hey there\\nI want to go the reusable pod route...  \n",
              "1    I am not from the US and such news never reach...  \n",
              "2    Sprite released this limited edition soda for ...  \n",
              "3    Long story short, I just have too many teas in...  \n",
              "4    Having a hard time finding an answer to this w...  \n",
              "..                                                 ...  \n",
              "395  I've had some sodas that i wanted to keep leak...  \n",
              "396  So I recently started selling an American Trea...  \n",
              "397  just wondering if i bought something with a gi...  \n",
              "398  so i decided to reinstall gta v after the cayo...  \n",
              "399  I've been drinking hibiscus tea and another lo...  \n",
              "\n",
              "[400 rows x 6 columns]"
            ],
            "text/html": [
              "\n",
              "  <div id=\"df-5bcc520d-4049-4160-9ffe-c3adba0bf605\">\n",
              "    <div class=\"colab-df-container\">\n",
              "      <div>\n",
              "<style scoped>\n",
              "    .dataframe tbody tr th:only-of-type {\n",
              "        vertical-align: middle;\n",
              "    }\n",
              "\n",
              "    .dataframe tbody tr th {\n",
              "        vertical-align: top;\n",
              "    }\n",
              "\n",
              "    .dataframe thead th {\n",
              "        text-align: right;\n",
              "    }\n",
              "</style>\n",
              "<table border=\"1\" class=\"dataframe\">\n",
              "  <thead>\n",
              "    <tr style=\"text-align: right;\">\n",
              "      <th></th>\n",
              "      <th>subreddit</th>\n",
              "      <th>title</th>\n",
              "      <th>score</th>\n",
              "      <th>id</th>\n",
              "      <th>author</th>\n",
              "      <th>body</th>\n",
              "    </tr>\n",
              "  </thead>\n",
              "  <tbody>\n",
              "    <tr>\n",
              "      <th>0</th>\n",
              "      <td>Coffee</td>\n",
              "      <td>Reusable Nespresso Pods</td>\n",
              "      <td>3</td>\n",
              "      <td>j4d0i9</td>\n",
              "      <td>SaltyRob78</td>\n",
              "      <td>Hey there\\nI want to go the reusable pod route...</td>\n",
              "    </tr>\n",
              "    <tr>\n",
              "      <th>1</th>\n",
              "      <td>HydroHomies</td>\n",
              "      <td>Hydro News (sad) A city in US Michigan, Benton...</td>\n",
              "      <td>8</td>\n",
              "      <td>q6lb22</td>\n",
              "      <td>Kirinsdragon</td>\n",
              "      <td>I am not from the US and such news never reach...</td>\n",
              "    </tr>\n",
              "    <tr>\n",
              "      <th>2</th>\n",
              "      <td>Soda</td>\n",
              "      <td>Can’t find Sprite Zero Sugar Winter Spiced Cra...</td>\n",
              "      <td>2</td>\n",
              "      <td>rs0qmb</td>\n",
              "      <td>AnonymousPete23</td>\n",
              "      <td>Sprite released this limited edition soda for ...</td>\n",
              "    </tr>\n",
              "    <tr>\n",
              "      <th>3</th>\n",
              "      <td>tea</td>\n",
              "      <td>I have a lot of teas, loose and in bags, that ...</td>\n",
              "      <td>11</td>\n",
              "      <td>egwnfh</td>\n",
              "      <td>T_as_in_Pterodactyl</td>\n",
              "      <td>Long story short, I just have too many teas in...</td>\n",
              "    </tr>\n",
              "    <tr>\n",
              "      <th>4</th>\n",
              "      <td>Coffee</td>\n",
              "      <td>Should I rinse bamboo filters before pour over?</td>\n",
              "      <td>0</td>\n",
              "      <td>pkxx4y</td>\n",
              "      <td>jack_hof</td>\n",
              "      <td>Having a hard time finding an answer to this w...</td>\n",
              "    </tr>\n",
              "    <tr>\n",
              "      <th>...</th>\n",
              "      <td>...</td>\n",
              "      <td>...</td>\n",
              "      <td>...</td>\n",
              "      <td>...</td>\n",
              "      <td>...</td>\n",
              "      <td>...</td>\n",
              "    </tr>\n",
              "    <tr>\n",
              "      <th>395</th>\n",
              "      <td>Soda</td>\n",
              "      <td>Where and How can i preserve collectable sodas...</td>\n",
              "      <td>0</td>\n",
              "      <td>lvjhhw</td>\n",
              "      <td>Pokeboy99</td>\n",
              "      <td>I've had some sodas that i wanted to keep leak...</td>\n",
              "    </tr>\n",
              "    <tr>\n",
              "      <th>396</th>\n",
              "      <td>Soda</td>\n",
              "      <td>What American Soda should I get?</td>\n",
              "      <td>2</td>\n",
              "      <td>kuo4ky</td>\n",
              "      <td>Old_Advantage_2341</td>\n",
              "      <td>So I recently started selling an American Trea...</td>\n",
              "    </tr>\n",
              "    <tr>\n",
              "      <th>397</th>\n",
              "      <td>xbox</td>\n",
              "      <td>refund bought with a gift card</td>\n",
              "      <td>3</td>\n",
              "      <td>rtvh45</td>\n",
              "      <td>SwingStuff</td>\n",
              "      <td>just wondering if i bought something with a gi...</td>\n",
              "    </tr>\n",
              "    <tr>\n",
              "      <th>398</th>\n",
              "      <td>PS4</td>\n",
              "      <td>GTA V install crash</td>\n",
              "      <td>0</td>\n",
              "      <td>legirx</td>\n",
              "      <td>firewolf37</td>\n",
              "      <td>so i decided to reinstall gta v after the cayo...</td>\n",
              "    </tr>\n",
              "    <tr>\n",
              "      <th>399</th>\n",
              "      <td>tea</td>\n",
              "      <td>I'm fairly new to the world of tea. Getting of...</td>\n",
              "      <td>4</td>\n",
              "      <td>mz2kcv</td>\n",
              "      <td>frijolita_bonita</td>\n",
              "      <td>I've been drinking hibiscus tea and another lo...</td>\n",
              "    </tr>\n",
              "  </tbody>\n",
              "</table>\n",
              "<p>400 rows × 6 columns</p>\n",
              "</div>\n",
              "      <button class=\"colab-df-convert\" onclick=\"convertToInteractive('df-5bcc520d-4049-4160-9ffe-c3adba0bf605')\"\n",
              "              title=\"Convert this dataframe to an interactive table.\"\n",
              "              style=\"display:none;\">\n",
              "        \n",
              "  <svg xmlns=\"http://www.w3.org/2000/svg\" height=\"24px\"viewBox=\"0 0 24 24\"\n",
              "       width=\"24px\">\n",
              "    <path d=\"M0 0h24v24H0V0z\" fill=\"none\"/>\n",
              "    <path d=\"M18.56 5.44l.94 2.06.94-2.06 2.06-.94-2.06-.94-.94-2.06-.94 2.06-2.06.94zm-11 1L8.5 8.5l.94-2.06 2.06-.94-2.06-.94L8.5 2.5l-.94 2.06-2.06.94zm10 10l.94 2.06.94-2.06 2.06-.94-2.06-.94-.94-2.06-.94 2.06-2.06.94z\"/><path d=\"M17.41 7.96l-1.37-1.37c-.4-.4-.92-.59-1.43-.59-.52 0-1.04.2-1.43.59L10.3 9.45l-7.72 7.72c-.78.78-.78 2.05 0 2.83L4 21.41c.39.39.9.59 1.41.59.51 0 1.02-.2 1.41-.59l7.78-7.78 2.81-2.81c.8-.78.8-2.07 0-2.86zM5.41 20L4 18.59l7.72-7.72 1.47 1.35L5.41 20z\"/>\n",
              "  </svg>\n",
              "      </button>\n",
              "      \n",
              "  <style>\n",
              "    .colab-df-container {\n",
              "      display:flex;\n",
              "      flex-wrap:wrap;\n",
              "      gap: 12px;\n",
              "    }\n",
              "\n",
              "    .colab-df-convert {\n",
              "      background-color: #E8F0FE;\n",
              "      border: none;\n",
              "      border-radius: 50%;\n",
              "      cursor: pointer;\n",
              "      display: none;\n",
              "      fill: #1967D2;\n",
              "      height: 32px;\n",
              "      padding: 0 0 0 0;\n",
              "      width: 32px;\n",
              "    }\n",
              "\n",
              "    .colab-df-convert:hover {\n",
              "      background-color: #E2EBFA;\n",
              "      box-shadow: 0px 1px 2px rgba(60, 64, 67, 0.3), 0px 1px 3px 1px rgba(60, 64, 67, 0.15);\n",
              "      fill: #174EA6;\n",
              "    }\n",
              "\n",
              "    [theme=dark] .colab-df-convert {\n",
              "      background-color: #3B4455;\n",
              "      fill: #D2E3FC;\n",
              "    }\n",
              "\n",
              "    [theme=dark] .colab-df-convert:hover {\n",
              "      background-color: #434B5C;\n",
              "      box-shadow: 0px 1px 3px 1px rgba(0, 0, 0, 0.15);\n",
              "      filter: drop-shadow(0px 1px 2px rgba(0, 0, 0, 0.3));\n",
              "      fill: #FFFFFF;\n",
              "    }\n",
              "  </style>\n",
              "\n",
              "      <script>\n",
              "        const buttonEl =\n",
              "          document.querySelector('#df-5bcc520d-4049-4160-9ffe-c3adba0bf605 button.colab-df-convert');\n",
              "        buttonEl.style.display =\n",
              "          google.colab.kernel.accessAllowed ? 'block' : 'none';\n",
              "\n",
              "        async function convertToInteractive(key) {\n",
              "          const element = document.querySelector('#df-5bcc520d-4049-4160-9ffe-c3adba0bf605');\n",
              "          const dataTable =\n",
              "            await google.colab.kernel.invokeFunction('convertToInteractive',\n",
              "                                                     [key], {});\n",
              "          if (!dataTable) return;\n",
              "\n",
              "          const docLinkHtml = 'Like what you see? Visit the ' +\n",
              "            '<a target=\"_blank\" href=https://colab.research.google.com/notebooks/data_table.ipynb>data table notebook</a>'\n",
              "            + ' to learn more about interactive tables.';\n",
              "          element.innerHTML = '';\n",
              "          dataTable['output_type'] = 'display_data';\n",
              "          await google.colab.output.renderOutput(dataTable, element);\n",
              "          const docLink = document.createElement('div');\n",
              "          docLink.innerHTML = docLinkHtml;\n",
              "          element.appendChild(docLink);\n",
              "        }\n",
              "      </script>\n",
              "    </div>\n",
              "  </div>\n",
              "  "
            ]
          },
          "metadata": {},
          "execution_count": 5
        }
      ],
      "source": [
        "val_data_list = list()\n",
        "for pos, item in enumerate(validation_data):\n",
        "    val_data_list.append( (validation_data[pos]['subreddit'], validation_data[pos]['title'], validation_data[pos]['score'], validation_data[pos]['id'], validation_data[pos]['author'], validation_data[pos]['body']))\n",
        "print(\"We have %d Reddit posts in validation dataset\"  % len(val_data_list))\n",
        "val_data_df = pd.DataFrame(val_data_list, columns=collabels)\n",
        "val_data_df"
      ]
    },
    {
      "cell_type": "markdown",
      "metadata": {
        "id": "l82wHqE-kRdL"
      },
      "source": [
        "*   **Test Dataset**\n",
        "is used to provide an unbiased evaluation of a final model fitted on the training dataset"
      ]
    },
    {
      "cell_type": "code",
      "execution_count": null,
      "metadata": {
        "colab": {
          "base_uri": "https://localhost:8080/",
          "height": 441
        },
        "id": "JrXKryfnkHwV",
        "outputId": "ccece8ea-dbb8-43a5-d821-37226d38af98"
      },
      "outputs": [
        {
          "output_type": "stream",
          "name": "stdout",
          "text": [
            "We have 400 Reddit posts in test dataset\n"
          ]
        },
        {
          "output_type": "execute_result",
          "data": {
            "text/plain": [
              "          subreddit                                              title  score  \\\n",
              "0            Coffee         Best Indie Coffee Brands that have K-Cups?      0   \n",
              "1    NintendoSwitch  How do you decide when to keep playing or when...    125   \n",
              "2              xbox  So I’m relatively new on Xbox, and have a ques...      1   \n",
              "3               tea                    Best gyokuro vendors in the US?      5   \n",
              "4           antiMLM  My Mary Kay hun neighbor has a \"no soliciting\"...   1038   \n",
              "..              ...                                                ...    ...   \n",
              "395        pcgaming  I'm blown away by how much better Linux suppor...    152   \n",
              "396  NintendoSwitch        TIL I can use USB-C Headphones on my Switch    213   \n",
              "397  NintendoSwitch  Shin Megami Tensei V is the Dark Souls of Poke...      0   \n",
              "398        pcgaming  Gaming 20 years in the future, what are your o...     35   \n",
              "399            Soda  Where can I buy Fanta Shokata (Elderberry - Le...      1   \n",
              "\n",
              "         id               author  \\\n",
              "0    3s7usq  GrandRapidsCreative   \n",
              "1    r8luun             windlep7   \n",
              "2    qwzis0        GoblinGuide93   \n",
              "3    m1m3as        SocioDexter70   \n",
              "4    pg5gs0        OkWallaby0009   \n",
              "..      ...                  ...   \n",
              "395  fv1cgw          UnDispelled   \n",
              "396  anqw0e               LufiXx   \n",
              "397  r1ev6l           ramen_junk   \n",
              "398  pj00n4    Pretend-Tangelo56   \n",
              "399  rui7se          piotrowskid   \n",
              "\n",
              "                                                  body  \n",
              "0    I know most aren't the biggest fan of K-Cups a...  \n",
              "1    I know the obvious answer is to give up if you...  \n",
              "2    I was playing infinite with friends in the par...  \n",
              "3    Ive only ever tried Ippodo since they have a U...  \n",
              "4    I guess she doesn't like to be bothered by peo...  \n",
              "..                                                 ...  \n",
              "395  This is just a post I wanted to make praising ...  \n",
              "396  While on the train this morning i put in my Hu...  \n",
              "397  This is the first SMT game I ever played and I...  \n",
              "398  I urge you to be creative with your opinions.\\...  \n",
              "399  The soda is so good. I first tried it when I w...  \n",
              "\n",
              "[400 rows x 6 columns]"
            ],
            "text/html": [
              "\n",
              "  <div id=\"df-f41fd826-b416-41e3-b07a-c90164fa12fb\">\n",
              "    <div class=\"colab-df-container\">\n",
              "      <div>\n",
              "<style scoped>\n",
              "    .dataframe tbody tr th:only-of-type {\n",
              "        vertical-align: middle;\n",
              "    }\n",
              "\n",
              "    .dataframe tbody tr th {\n",
              "        vertical-align: top;\n",
              "    }\n",
              "\n",
              "    .dataframe thead th {\n",
              "        text-align: right;\n",
              "    }\n",
              "</style>\n",
              "<table border=\"1\" class=\"dataframe\">\n",
              "  <thead>\n",
              "    <tr style=\"text-align: right;\">\n",
              "      <th></th>\n",
              "      <th>subreddit</th>\n",
              "      <th>title</th>\n",
              "      <th>score</th>\n",
              "      <th>id</th>\n",
              "      <th>author</th>\n",
              "      <th>body</th>\n",
              "    </tr>\n",
              "  </thead>\n",
              "  <tbody>\n",
              "    <tr>\n",
              "      <th>0</th>\n",
              "      <td>Coffee</td>\n",
              "      <td>Best Indie Coffee Brands that have K-Cups?</td>\n",
              "      <td>0</td>\n",
              "      <td>3s7usq</td>\n",
              "      <td>GrandRapidsCreative</td>\n",
              "      <td>I know most aren't the biggest fan of K-Cups a...</td>\n",
              "    </tr>\n",
              "    <tr>\n",
              "      <th>1</th>\n",
              "      <td>NintendoSwitch</td>\n",
              "      <td>How do you decide when to keep playing or when...</td>\n",
              "      <td>125</td>\n",
              "      <td>r8luun</td>\n",
              "      <td>windlep7</td>\n",
              "      <td>I know the obvious answer is to give up if you...</td>\n",
              "    </tr>\n",
              "    <tr>\n",
              "      <th>2</th>\n",
              "      <td>xbox</td>\n",
              "      <td>So I’m relatively new on Xbox, and have a ques...</td>\n",
              "      <td>1</td>\n",
              "      <td>qwzis0</td>\n",
              "      <td>GoblinGuide93</td>\n",
              "      <td>I was playing infinite with friends in the par...</td>\n",
              "    </tr>\n",
              "    <tr>\n",
              "      <th>3</th>\n",
              "      <td>tea</td>\n",
              "      <td>Best gyokuro vendors in the US?</td>\n",
              "      <td>5</td>\n",
              "      <td>m1m3as</td>\n",
              "      <td>SocioDexter70</td>\n",
              "      <td>Ive only ever tried Ippodo since they have a U...</td>\n",
              "    </tr>\n",
              "    <tr>\n",
              "      <th>4</th>\n",
              "      <td>antiMLM</td>\n",
              "      <td>My Mary Kay hun neighbor has a \"no soliciting\"...</td>\n",
              "      <td>1038</td>\n",
              "      <td>pg5gs0</td>\n",
              "      <td>OkWallaby0009</td>\n",
              "      <td>I guess she doesn't like to be bothered by peo...</td>\n",
              "    </tr>\n",
              "    <tr>\n",
              "      <th>...</th>\n",
              "      <td>...</td>\n",
              "      <td>...</td>\n",
              "      <td>...</td>\n",
              "      <td>...</td>\n",
              "      <td>...</td>\n",
              "      <td>...</td>\n",
              "    </tr>\n",
              "    <tr>\n",
              "      <th>395</th>\n",
              "      <td>pcgaming</td>\n",
              "      <td>I'm blown away by how much better Linux suppor...</td>\n",
              "      <td>152</td>\n",
              "      <td>fv1cgw</td>\n",
              "      <td>UnDispelled</td>\n",
              "      <td>This is just a post I wanted to make praising ...</td>\n",
              "    </tr>\n",
              "    <tr>\n",
              "      <th>396</th>\n",
              "      <td>NintendoSwitch</td>\n",
              "      <td>TIL I can use USB-C Headphones on my Switch</td>\n",
              "      <td>213</td>\n",
              "      <td>anqw0e</td>\n",
              "      <td>LufiXx</td>\n",
              "      <td>While on the train this morning i put in my Hu...</td>\n",
              "    </tr>\n",
              "    <tr>\n",
              "      <th>397</th>\n",
              "      <td>NintendoSwitch</td>\n",
              "      <td>Shin Megami Tensei V is the Dark Souls of Poke...</td>\n",
              "      <td>0</td>\n",
              "      <td>r1ev6l</td>\n",
              "      <td>ramen_junk</td>\n",
              "      <td>This is the first SMT game I ever played and I...</td>\n",
              "    </tr>\n",
              "    <tr>\n",
              "      <th>398</th>\n",
              "      <td>pcgaming</td>\n",
              "      <td>Gaming 20 years in the future, what are your o...</td>\n",
              "      <td>35</td>\n",
              "      <td>pj00n4</td>\n",
              "      <td>Pretend-Tangelo56</td>\n",
              "      <td>I urge you to be creative with your opinions.\\...</td>\n",
              "    </tr>\n",
              "    <tr>\n",
              "      <th>399</th>\n",
              "      <td>Soda</td>\n",
              "      <td>Where can I buy Fanta Shokata (Elderberry - Le...</td>\n",
              "      <td>1</td>\n",
              "      <td>rui7se</td>\n",
              "      <td>piotrowskid</td>\n",
              "      <td>The soda is so good. I first tried it when I w...</td>\n",
              "    </tr>\n",
              "  </tbody>\n",
              "</table>\n",
              "<p>400 rows × 6 columns</p>\n",
              "</div>\n",
              "      <button class=\"colab-df-convert\" onclick=\"convertToInteractive('df-f41fd826-b416-41e3-b07a-c90164fa12fb')\"\n",
              "              title=\"Convert this dataframe to an interactive table.\"\n",
              "              style=\"display:none;\">\n",
              "        \n",
              "  <svg xmlns=\"http://www.w3.org/2000/svg\" height=\"24px\"viewBox=\"0 0 24 24\"\n",
              "       width=\"24px\">\n",
              "    <path d=\"M0 0h24v24H0V0z\" fill=\"none\"/>\n",
              "    <path d=\"M18.56 5.44l.94 2.06.94-2.06 2.06-.94-2.06-.94-.94-2.06-.94 2.06-2.06.94zm-11 1L8.5 8.5l.94-2.06 2.06-.94-2.06-.94L8.5 2.5l-.94 2.06-2.06.94zm10 10l.94 2.06.94-2.06 2.06-.94-2.06-.94-.94-2.06-.94 2.06-2.06.94z\"/><path d=\"M17.41 7.96l-1.37-1.37c-.4-.4-.92-.59-1.43-.59-.52 0-1.04.2-1.43.59L10.3 9.45l-7.72 7.72c-.78.78-.78 2.05 0 2.83L4 21.41c.39.39.9.59 1.41.59.51 0 1.02-.2 1.41-.59l7.78-7.78 2.81-2.81c.8-.78.8-2.07 0-2.86zM5.41 20L4 18.59l7.72-7.72 1.47 1.35L5.41 20z\"/>\n",
              "  </svg>\n",
              "      </button>\n",
              "      \n",
              "  <style>\n",
              "    .colab-df-container {\n",
              "      display:flex;\n",
              "      flex-wrap:wrap;\n",
              "      gap: 12px;\n",
              "    }\n",
              "\n",
              "    .colab-df-convert {\n",
              "      background-color: #E8F0FE;\n",
              "      border: none;\n",
              "      border-radius: 50%;\n",
              "      cursor: pointer;\n",
              "      display: none;\n",
              "      fill: #1967D2;\n",
              "      height: 32px;\n",
              "      padding: 0 0 0 0;\n",
              "      width: 32px;\n",
              "    }\n",
              "\n",
              "    .colab-df-convert:hover {\n",
              "      background-color: #E2EBFA;\n",
              "      box-shadow: 0px 1px 2px rgba(60, 64, 67, 0.3), 0px 1px 3px 1px rgba(60, 64, 67, 0.15);\n",
              "      fill: #174EA6;\n",
              "    }\n",
              "\n",
              "    [theme=dark] .colab-df-convert {\n",
              "      background-color: #3B4455;\n",
              "      fill: #D2E3FC;\n",
              "    }\n",
              "\n",
              "    [theme=dark] .colab-df-convert:hover {\n",
              "      background-color: #434B5C;\n",
              "      box-shadow: 0px 1px 3px 1px rgba(0, 0, 0, 0.15);\n",
              "      filter: drop-shadow(0px 1px 2px rgba(0, 0, 0, 0.3));\n",
              "      fill: #FFFFFF;\n",
              "    }\n",
              "  </style>\n",
              "\n",
              "      <script>\n",
              "        const buttonEl =\n",
              "          document.querySelector('#df-f41fd826-b416-41e3-b07a-c90164fa12fb button.colab-df-convert');\n",
              "        buttonEl.style.display =\n",
              "          google.colab.kernel.accessAllowed ? 'block' : 'none';\n",
              "\n",
              "        async function convertToInteractive(key) {\n",
              "          const element = document.querySelector('#df-f41fd826-b416-41e3-b07a-c90164fa12fb');\n",
              "          const dataTable =\n",
              "            await google.colab.kernel.invokeFunction('convertToInteractive',\n",
              "                                                     [key], {});\n",
              "          if (!dataTable) return;\n",
              "\n",
              "          const docLinkHtml = 'Like what you see? Visit the ' +\n",
              "            '<a target=\"_blank\" href=https://colab.research.google.com/notebooks/data_table.ipynb>data table notebook</a>'\n",
              "            + ' to learn more about interactive tables.';\n",
              "          element.innerHTML = '';\n",
              "          dataTable['output_type'] = 'display_data';\n",
              "          await google.colab.output.renderOutput(dataTable, element);\n",
              "          const docLink = document.createElement('div');\n",
              "          docLink.innerHTML = docLinkHtml;\n",
              "          element.appendChild(docLink);\n",
              "        }\n",
              "      </script>\n",
              "    </div>\n",
              "  </div>\n",
              "  "
            ]
          },
          "metadata": {},
          "execution_count": 6
        }
      ],
      "source": [
        "test_data_list = list()\n",
        "for pos, item in enumerate(test_data):\n",
        "    test_data_list.append( (test_data[pos]['subreddit'], test_data[pos]['title'], test_data[pos]['score'], test_data[pos]['id'], test_data[pos]['author'], test_data[pos]['body']))\n",
        "print(\"We have %d Reddit posts in test dataset\"  % len(test_data_list))\n",
        "test_data_df = pd.DataFrame(test_data_list, columns=collabels)\n",
        "test_data_df"
      ]
    },
    {
      "cell_type": "markdown",
      "metadata": {
        "id": "dIQeFE1tt_6U"
      },
      "source": [
        "\n",
        "\n",
        "*  **Label distribution in Training/Validation/Test dataset**\n",
        "\n"
      ]
    },
    {
      "cell_type": "markdown",
      "metadata": {
        "id": "nV8Js_EDuhBe"
      },
      "source": [
        "**display_side_by_side** function used for displaying two dataframes side my side."
      ]
    },
    {
      "cell_type": "code",
      "execution_count": null,
      "metadata": {
        "id": "wNMTEbX0btI9"
      },
      "outputs": [],
      "source": [
        "def display_side_by_side(*args):\n",
        "    html_str=''\n",
        "    for df in args:\n",
        "        html_str+=df.to_html()\n",
        "    display_html(html_str.replace('table','table style=\"display:inline\"'),raw=True)"
      ]
    },
    {
      "cell_type": "code",
      "execution_count": null,
      "metadata": {
        "colab": {
          "base_uri": "https://localhost:8080/",
          "height": 837
        },
        "id": "Lm1jqVJ9yl5I",
        "outputId": "91b7c975-8110-47b1-f968-6ff1b21c0728"
      },
      "outputs": [
        {
          "output_type": "stream",
          "name": "stdout",
          "text": [
            "Training data contains 9 unique labels/subreddit\n",
            "Validation data contains 9 unique labels/subreddit\n",
            "Test data contains 9 unique labels/subreddit\n",
            "\n",
            "     Distribution of labels in Training set      Distribution of labels in Validation set          Distribution of labels in Test set\n"
          ]
        },
        {
          "output_type": "display_data",
          "data": {
            "text/html": [
              "<table style=\"display:inline\" border=\"1\" class=\"dataframe\">\n",
              "  <thead>\n",
              "    <tr style=\"text-align: right;\">\n",
              "      <th></th>\n",
              "      <th>subreddit</th>\n",
              "      <th>count</th>\n",
              "      <th>prior_probabilities</th>\n",
              "    </tr>\n",
              "  </thead>\n",
              "  <tbody>\n",
              "    <tr>\n",
              "      <th>0</th>\n",
              "      <td>PS4</td>\n",
              "      <td>142</td>\n",
              "      <td>0.118</td>\n",
              "    </tr>\n",
              "    <tr>\n",
              "      <th>1</th>\n",
              "      <td>pcgaming</td>\n",
              "      <td>135</td>\n",
              "      <td>0.112</td>\n",
              "    </tr>\n",
              "    <tr>\n",
              "      <th>2</th>\n",
              "      <td>NintendoSwitch</td>\n",
              "      <td>145</td>\n",
              "      <td>0.121</td>\n",
              "    </tr>\n",
              "    <tr>\n",
              "      <th>3</th>\n",
              "      <td>antiMLM</td>\n",
              "      <td>128</td>\n",
              "      <td>0.107</td>\n",
              "    </tr>\n",
              "    <tr>\n",
              "      <th>4</th>\n",
              "      <td>HydroHomies</td>\n",
              "      <td>134</td>\n",
              "      <td>0.112</td>\n",
              "    </tr>\n",
              "    <tr>\n",
              "      <th>5</th>\n",
              "      <td>Coffee</td>\n",
              "      <td>136</td>\n",
              "      <td>0.113</td>\n",
              "    </tr>\n",
              "    <tr>\n",
              "      <th>6</th>\n",
              "      <td>xbox</td>\n",
              "      <td>132</td>\n",
              "      <td>0.110</td>\n",
              "    </tr>\n",
              "    <tr>\n",
              "      <th>7</th>\n",
              "      <td>Soda</td>\n",
              "      <td>102</td>\n",
              "      <td>0.085</td>\n",
              "    </tr>\n",
              "    <tr>\n",
              "      <th>8</th>\n",
              "      <td>tea</td>\n",
              "      <td>146</td>\n",
              "      <td>0.122</td>\n",
              "    </tr>\n",
              "  </tbody>\n",
              "</table style=\"display:inline\"><table style=\"display:inline\" border=\"1\" class=\"dataframe\">\n",
              "  <thead>\n",
              "    <tr style=\"text-align: right;\">\n",
              "      <th></th>\n",
              "      <th>subreddit</th>\n",
              "      <th>count</th>\n",
              "      <th>prior_probabilities</th>\n",
              "    </tr>\n",
              "  </thead>\n",
              "  <tbody>\n",
              "    <tr>\n",
              "      <th>0</th>\n",
              "      <td>Coffee</td>\n",
              "      <td>42</td>\n",
              "      <td>0.105</td>\n",
              "    </tr>\n",
              "    <tr>\n",
              "      <th>1</th>\n",
              "      <td>HydroHomies</td>\n",
              "      <td>38</td>\n",
              "      <td>0.095</td>\n",
              "    </tr>\n",
              "    <tr>\n",
              "      <th>2</th>\n",
              "      <td>Soda</td>\n",
              "      <td>43</td>\n",
              "      <td>0.108</td>\n",
              "    </tr>\n",
              "    <tr>\n",
              "      <th>3</th>\n",
              "      <td>tea</td>\n",
              "      <td>48</td>\n",
              "      <td>0.120</td>\n",
              "    </tr>\n",
              "    <tr>\n",
              "      <th>4</th>\n",
              "      <td>PS4</td>\n",
              "      <td>43</td>\n",
              "      <td>0.108</td>\n",
              "    </tr>\n",
              "    <tr>\n",
              "      <th>5</th>\n",
              "      <td>pcgaming</td>\n",
              "      <td>43</td>\n",
              "      <td>0.108</td>\n",
              "    </tr>\n",
              "    <tr>\n",
              "      <th>6</th>\n",
              "      <td>xbox</td>\n",
              "      <td>37</td>\n",
              "      <td>0.092</td>\n",
              "    </tr>\n",
              "    <tr>\n",
              "      <th>7</th>\n",
              "      <td>NintendoSwitch</td>\n",
              "      <td>52</td>\n",
              "      <td>0.130</td>\n",
              "    </tr>\n",
              "    <tr>\n",
              "      <th>8</th>\n",
              "      <td>antiMLM</td>\n",
              "      <td>54</td>\n",
              "      <td>0.135</td>\n",
              "    </tr>\n",
              "  </tbody>\n",
              "</table style=\"display:inline\"><table style=\"display:inline\" border=\"1\" class=\"dataframe\">\n",
              "  <thead>\n",
              "    <tr style=\"text-align: right;\">\n",
              "      <th></th>\n",
              "      <th>subreddit</th>\n",
              "      <th>count</th>\n",
              "      <th>prior_probabilities</th>\n",
              "    </tr>\n",
              "  </thead>\n",
              "  <tbody>\n",
              "    <tr>\n",
              "      <th>0</th>\n",
              "      <td>Coffee</td>\n",
              "      <td>56</td>\n",
              "      <td>0.140</td>\n",
              "    </tr>\n",
              "    <tr>\n",
              "      <th>1</th>\n",
              "      <td>NintendoSwitch</td>\n",
              "      <td>52</td>\n",
              "      <td>0.130</td>\n",
              "    </tr>\n",
              "    <tr>\n",
              "      <th>2</th>\n",
              "      <td>xbox</td>\n",
              "      <td>44</td>\n",
              "      <td>0.110</td>\n",
              "    </tr>\n",
              "    <tr>\n",
              "      <th>3</th>\n",
              "      <td>tea</td>\n",
              "      <td>42</td>\n",
              "      <td>0.105</td>\n",
              "    </tr>\n",
              "    <tr>\n",
              "      <th>4</th>\n",
              "      <td>antiMLM</td>\n",
              "      <td>44</td>\n",
              "      <td>0.110</td>\n",
              "    </tr>\n",
              "    <tr>\n",
              "      <th>5</th>\n",
              "      <td>pcgaming</td>\n",
              "      <td>47</td>\n",
              "      <td>0.118</td>\n",
              "    </tr>\n",
              "    <tr>\n",
              "      <th>6</th>\n",
              "      <td>PS4</td>\n",
              "      <td>48</td>\n",
              "      <td>0.120</td>\n",
              "    </tr>\n",
              "    <tr>\n",
              "      <th>7</th>\n",
              "      <td>HydroHomies</td>\n",
              "      <td>38</td>\n",
              "      <td>0.095</td>\n",
              "    </tr>\n",
              "    <tr>\n",
              "      <th>8</th>\n",
              "      <td>Soda</td>\n",
              "      <td>29</td>\n",
              "      <td>0.072</td>\n",
              "    </tr>\n",
              "  </tbody>\n",
              "</table style=\"display:inline\">"
            ]
          },
          "metadata": {}
        },
        {
          "output_type": "stream",
          "name": "stdout",
          "text": [
            "\n"
          ]
        },
        {
          "output_type": "display_data",
          "data": {
            "text/plain": [
              "<Figure size 1440x360 with 3 Axes>"
            ],
            "image/png": "[encoded data removed]"
          },
          "metadata": {
            "needs_background": "light"
          }
        }
      ],
      "source": [
        "figure, axes = plt.subplots(1, 3,figsize=(20,5))\n",
        "\n",
        "#training data\n",
        "uniquelabels_tr = train_data_df['subreddit'].unique()\n",
        "print(\"Training data contains %d unique labels/subreddit\" % len(uniquelabels_tr))\n",
        "\n",
        "tr_label_counts = collections.Counter(train_data_df['subreddit'])\n",
        "tr_list=[]\n",
        "for label in tr_label_counts:\n",
        "  tr_list.append([label,tr_label_counts[label],np.round(tr_label_counts[label] / len(train_data_df),3)])\n",
        "tr_label = pd.DataFrame(tr_list,columns=['subreddit','count','prior_probabilities'])\n",
        "tr_label.plot.bar(x='subreddit', y='count', ax=axes[0])\n",
        "axes[0].title.set_text(\"Distribution of labels in the Training set \")\n",
        "\n",
        "#validation data\n",
        "uniquelabels_val = val_data_df['subreddit'].unique()\n",
        "print(\"Validation data contains %d unique labels/subreddit\" % len(uniquelabels_val))\n",
        "\n",
        "val_label_counts = collections.Counter(val_data_df['subreddit'])\n",
        "val_list=[]\n",
        "for label in val_label_counts:\n",
        "  val_list.append([label,val_label_counts[label],np.round(val_label_counts[label] / len(val_data_df),3)])\n",
        "val_label = pd.DataFrame(val_list,columns=['subreddit','count','prior_probabilities'])\n",
        "val_label.plot.bar(x='subreddit', y='count', ax=axes[1])\n",
        "axes[1].title.set_text(\"Distribution of labels in the Validation set \")\n",
        "\n",
        "#test data\n",
        "uniquelabels_test = test_data_df['subreddit'].unique()\n",
        "print(\"Test data contains %d unique labels/subreddit\" % len(uniquelabels_test))\n",
        "\n",
        "test_label_counts = collections.Counter(test_data_df['subreddit'])\n",
        "test_list=[]\n",
        "for label in test_label_counts:\n",
        "  test_list.append([label,test_label_counts[label],np.round(test_label_counts[label] / len(test_data_df),3)])\n",
        "test_label = pd.DataFrame(test_list,columns=['subreddit','count','prior_probabilities'])\n",
        "test_label.style.set_caption(\"Training Set\")\n",
        "test_label.plot.bar(x='subreddit', y='count',ax=axes[2])\n",
        "axes[2].title.set_text(\"Distribution of labels in the Test set \")\n",
        "\n",
        "print()\n",
        "print(\"     Distribution of labels in Training set      Distribution of labels in Validation set          Distribution of labels in Test set\")\n",
        "display_side_by_side(tr_label,val_label,test_label)\n",
        "\n",
        "print()\n",
        "for ax in axes.flat:\n",
        "    ax.set(xlabel='subreddits', ylabel='Count')"
      ]
    },
    {
      "cell_type": "markdown",
      "metadata": {
        "id": "YbAnmOn9Av2e"
      },
      "source": [
        "\n",
        "\n",
        "*   Analysing some statistics of datasets to check whether albels are evenly distributed among train, validation and test set. All of these labels appear in the three  datasets, however they are not uniformly distributed, and I suspcet that data is biased.\n",
        "*   For example, 8% training set data has label ‘soda’, while validation set has 11% soda label, and test set has a 7% soda label. Similarly, training set has 11% antiMLM as a label, while validation set has 14% antiMLM as a label, and test set has 11% antiMLM as a label.\n",
        "\n",
        "\n"
      ]
    },
    {
      "cell_type": "code",
      "execution_count": null,
      "metadata": {
        "colab": {
          "base_uri": "https://localhost:8080/"
        },
        "id": "457VZaGZnfNV",
        "outputId": "d72e14a5-61ec-4ea6-ed5c-51b0cc21b586"
      },
      "outputs": [
        {
          "output_type": "stream",
          "name": "stdout",
          "text": [
            "Training set contains 8% soda as label\n",
            "Validation set contains 11% soda as label\n",
            "Test set contains 7% soda as label\n",
            "\n",
            "Training set contains 11% antiMLM as label\n",
            "Validation set contains 14% antiMLM as label\n",
            "Test set contains 11% antiMLM as label\n"
          ]
        }
      ],
      "source": [
        "number_soda_train = sum(train_data_df['subreddit'] == 'Soda')\n",
        "number_soda_val = sum(val_data_df['subreddit'] == 'Soda')\n",
        "number_soda_test = sum(test_data_df['subreddit'] == 'Soda')\n",
        "\n",
        "print('Training set contains %0.0f%% soda as label' % (100*number_soda_train/len(train_data_df)))\n",
        "print('Validation set contains %0.0f%% soda as label' % (100*number_soda_val/len(val_data_df)))\n",
        "print('Test set contains %0.0f%% soda as label' % (100*number_soda_test/len(test_data_df)))\n",
        "\n",
        "print()\n",
        "\n",
        "number_antiMLM_train = sum(train_data_df['subreddit'] == 'antiMLM')\n",
        "number_antiMLM_val = sum(val_data_df['subreddit'] == 'antiMLM')\n",
        "number_antiMLM_test = sum(test_data_df['subreddit'] == 'antiMLM')\n",
        "\n",
        "print('Training set contains %0.0f%% antiMLM as label' % (100*number_antiMLM_train/len(train_data_df)))\n",
        "print('Validation set contains %0.0f%% antiMLM as label' % (100*number_antiMLM_val/len(val_data_df)))\n",
        "print('Test set contains %0.0f%% antiMLM as label' % (100*number_antiMLM_test/len(test_data_df)))"
      ]
    },
    {
      "cell_type": "markdown",
      "metadata": {
        "id": "11oTA7EIfNne"
      },
      "source": [
        "### **Q1b:Implementing Classifiers**\n",
        "Implement five classifiers, train them on the training set and evaluate on the test set."
      ]
    },
    {
      "cell_type": "markdown",
      "metadata": {
        "id": "CNxOyNFdYLmd"
      },
      "source": [
        "**text_pipeline_spacy() function tokenize and normalize the text (column name - 'body') from reddit posts.**\n",
        ":Function split the text into group of words(also called tokens), eliminate stopwords, punctuations and space, and after lemmatization it return lower case tokens"
      ]
    },
    {
      "cell_type": "code",
      "execution_count": null,
      "metadata": {
        "id": "Sce05x5db3lc"
      },
      "outputs": [],
      "source": [
        "def text_pipeline_spacy(text):\n",
        "    tokens = []\n",
        "    doc = nlp(text)\n",
        "    for t in doc:\n",
        "        if not t.is_stop and not t.is_punct and not t.is_space:\n",
        "            tokens.append(t.lemma_.lower())\n",
        "    return tokens\n",
        "#text_pipeline_spacy(\"hHi How are you? What you doing?\")"
      ]
    },
    {
      "cell_type": "code",
      "source": [
        "text =\"Iplacedanorder(order#ZA10880)on05-11-2020forrearaxlebreakdiscsforaBMW8Coupepartno.B342r.DH-Dhavelosttheorder.Pleasere-deliverASAP.\"\n",
        "doc = nlp(text)\n",
        "for t in doc:\n",
        "  print(t)"
      ],
      "metadata": {
        "colab": {
          "base_uri": "https://localhost:8080/"
        },
        "id": "2Sd3v-FDalXL",
        "outputId": "e568ed51-fbbd-41c6-dfd6-81feddd33172"
      },
      "execution_count": null,
      "outputs": [
        {
          "output_type": "stream",
          "name": "stdout",
          "text": [
            "Iplacedanorder(order#ZA10880)on05\n",
            "-\n",
            "11\n",
            "-\n",
            "2020forrearaxlebreakdiscsforaBMW8Coupepartno\n",
            ".\n",
            "B342r\n",
            ".\n",
            "DH\n",
            "-\n",
            "Dhavelosttheorder\n",
            ".\n",
            "Pleasere\n",
            "-\n",
            "deliverASAP\n",
            ".\n"
          ]
        }
      ]
    },
    {
      "cell_type": "code",
      "source": [
        "from nltk.tokenize import regexp_tokenize\n",
        "pattern1 = r'(\\\\w+|\\\\?|!)'\n",
        "pattern2 = r\"(\\w+|#\\d|\\?|!)\"\n",
        "pattern3 = r'(#\\\\d\\\\w+\\\\?!)'\n",
        "pattern4 = r'\\\\s+'\n",
        "pprint(regexp_tokenize(text, pattern2))"
      ],
      "metadata": {
        "colab": {
          "base_uri": "https://localhost:8080/"
        },
        "id": "1SKCfxbwiyCR",
        "outputId": "09c34a63-e709-42e9-b050-bb54d7e71522"
      },
      "execution_count": null,
      "outputs": [
        {
          "output_type": "stream",
          "name": "stdout",
          "text": [
            "['Iplacedanorder',\n",
            " 'order',\n",
            " 'ZA10880',\n",
            " 'on05',\n",
            " '11',\n",
            " '2020forrearaxlebreakdiscsforaBMW8Coupepartno',\n",
            " 'B342r',\n",
            " 'DH',\n",
            " 'Dhavelosttheorder',\n",
            " 'Pleasere',\n",
            " 'deliverASAP']\n"
          ]
        }
      ]
    },
    {
      "cell_type": "code",
      "source": [
        "text =\"Iplacedanorder(order#ZA10880)on05-11-2020forrearaxlebreakdiscsforaBMW8Coupepartno.B342r.DH-Dhavelosttheorder.Pleasere-deliverASAP.\"\n",
        "doc = nlp(text)\n",
        "for t in doc:\n",
        "  print(t)"
      ],
      "metadata": {
        "id": "FvPpgiKvh2Go",
        "colab": {
          "base_uri": "https://localhost:8080/"
        },
        "outputId": "896536df-2b55-4628-871e-95c3b3e67945"
      },
      "execution_count": null,
      "outputs": [
        {
          "output_type": "stream",
          "name": "stdout",
          "text": [
            "Iplacedanorder(order#ZA10880)on05\n",
            "-\n",
            "11\n",
            "-\n",
            "2020forrearaxlebreakdiscsforaBMW8Coupepartno\n",
            ".\n",
            "B342r\n",
            ".\n",
            "DH\n",
            "-\n",
            "Dhavelosttheorder\n",
            ".\n",
            "Pleasere\n",
            "-\n",
            "deliverASAP\n",
            ".\n"
          ]
        }
      ]
    },
    {
      "cell_type": "code",
      "source": [
        "text =\"I placed an order (order# ZA10880) on 05-11-2020 for rear axle break discs for a BMW8Coupe - part no. B342r. DH-D have lost the order. Please re-deliver ASAP.\"\n",
        "doc = nlp(text)\n",
        "for t in doc:\n",
        "  print(t)"
      ],
      "metadata": {
        "colab": {
          "base_uri": "https://localhost:8080/"
        },
        "id": "r8QRNBL1aa-j",
        "outputId": "2db50c41-82ba-4349-c067-fb6442592d63"
      },
      "execution_count": null,
      "outputs": [
        {
          "output_type": "stream",
          "name": "stdout",
          "text": [
            "I\n",
            "placed\n",
            "an\n",
            "order\n",
            "(\n",
            "order\n",
            "#\n",
            "ZA10880\n",
            ")\n",
            "on\n",
            "05\n",
            "-\n",
            "11\n",
            "-\n",
            "2020\n",
            "for\n",
            "rear\n",
            "axle\n",
            "break\n",
            "discs\n",
            "for\n",
            "a\n",
            "BMW8Coupe\n",
            "-\n",
            "part\n",
            "no\n",
            ".\n",
            "B342r\n",
            ".\n",
            "DH\n",
            "-\n",
            "D\n",
            "have\n",
            "lost\n",
            "the\n",
            "order\n",
            ".\n",
            "Please\n",
            "re\n",
            "-\n",
            "deliver\n",
            "ASAP\n",
            ".\n"
          ]
        }
      ]
    },
    {
      "cell_type": "markdown",
      "source": [
        "**ItemSelector() function is a custome made transformer used for column selection** Result of this transformer is a dataframe"
      ],
      "metadata": {
        "id": "yjUe7_RoUtMu"
      }
    },
    {
      "cell_type": "code",
      "source": [
        "text =\"[He didn’t like the U.S. movie “Snakes on a train, revenge of Viper-man!”, now playing in the U.K.]\"\n",
        "doc = nlp(text)\n",
        "for t in doc:\n",
        "  print(t)"
      ],
      "metadata": {
        "colab": {
          "base_uri": "https://localhost:8080/"
        },
        "id": "Q1e0adB_hBR-",
        "outputId": "57b134ae-b2f1-4b64-9b91-cef437d2b56f"
      },
      "execution_count": null,
      "outputs": [
        {
          "output_type": "stream",
          "name": "stdout",
          "text": [
            "[\n",
            "He\n",
            "did\n",
            "n’t\n",
            "like\n",
            "the\n",
            "U.S.\n",
            "movie\n",
            "“\n",
            "Snakes\n",
            "on\n",
            "a\n",
            "train\n",
            ",\n",
            "revenge\n",
            "of\n",
            "Viper\n",
            "-\n",
            "man\n",
            "!\n",
            "”\n",
            ",\n",
            "now\n",
            "playing\n",
            "in\n",
            "the\n",
            "U.K.\n",
            "]\n"
          ]
        }
      ]
    },
    {
      "cell_type": "code",
      "source": [
        "!pip install pytorch_pretrained_bert pytorch-nlp"
      ],
      "metadata": {
        "colab": {
          "base_uri": "https://localhost:8080/"
        },
        "id": "E2ylV2nCrqIi",
        "outputId": "cd26d190-7ca9-43e6-c035-0f17667014f0"
      },
      "execution_count": null,
      "outputs": [
        {
          "output_type": "stream",
          "name": "stdout",
          "text": [
            "Looking in indexes: https://pypi.org/simple, https://us-python.pkg.dev/colab-wheels/public/simple/\n",
            "Requirement already satisfied: pytorch_pretrained_bert in /usr/local/lib/python3.7/dist-packages (0.6.2)\n",
            "Requirement already satisfied: pytorch-nlp in /usr/local/lib/python3.7/dist-packages (0.5.0)\n",
            "Requirement already satisfied: torch>=0.4.1 in /usr/local/lib/python3.7/dist-packages (from pytorch_pretrained_bert) (1.12.0+cu113)\n",
            "Requirement already satisfied: tqdm in /usr/local/lib/python3.7/dist-packages (from pytorch_pretrained_bert) (4.64.0)\n",
            "Requirement already satisfied: regex in /usr/local/lib/python3.7/dist-packages (from pytorch_pretrained_bert) (2022.6.2)\n",
            "Requirement already satisfied: requests in /usr/local/lib/python3.7/dist-packages (from pytorch_pretrained_bert) (2.23.0)\n",
            "Requirement already satisfied: numpy in /usr/local/lib/python3.7/dist-packages (from pytorch_pretrained_bert) (1.21.6)\n",
            "Requirement already satisfied: boto3 in /usr/local/lib/python3.7/dist-packages (from pytorch_pretrained_bert) (1.24.29)\n",
            "Requirement already satisfied: typing-extensions in /usr/local/lib/python3.7/dist-packages (from torch>=0.4.1->pytorch_pretrained_bert) (4.1.1)\n",
            "Requirement already satisfied: s3transfer<0.7.0,>=0.6.0 in /usr/local/lib/python3.7/dist-packages (from boto3->pytorch_pretrained_bert) (0.6.0)\n",
            "Requirement already satisfied: botocore<1.28.0,>=1.27.29 in /usr/local/lib/python3.7/dist-packages (from boto3->pytorch_pretrained_bert) (1.27.29)\n",
            "Requirement already satisfied: jmespath<2.0.0,>=0.7.1 in /usr/local/lib/python3.7/dist-packages (from boto3->pytorch_pretrained_bert) (1.0.1)\n",
            "Requirement already satisfied: python-dateutil<3.0.0,>=2.1 in /usr/local/lib/python3.7/dist-packages (from botocore<1.28.0,>=1.27.29->boto3->pytorch_pretrained_bert) (2.8.2)\n",
            "Requirement already satisfied: urllib3<1.27,>=1.25.4 in /usr/local/lib/python3.7/dist-packages (from botocore<1.28.0,>=1.27.29->boto3->pytorch_pretrained_bert) (1.25.11)\n",
            "Requirement already satisfied: six>=1.5 in /usr/local/lib/python3.7/dist-packages (from python-dateutil<3.0.0,>=2.1->botocore<1.28.0,>=1.27.29->boto3->pytorch_pretrained_bert) (1.15.0)\n",
            "Requirement already satisfied: chardet<4,>=3.0.2 in /usr/local/lib/python3.7/dist-packages (from requests->pytorch_pretrained_bert) (3.0.4)\n",
            "Requirement already satisfied: certifi>=2017.4.17 in /usr/local/lib/python3.7/dist-packages (from requests->pytorch_pretrained_bert) (2022.6.15)\n",
            "Requirement already satisfied: idna<3,>=2.5 in /usr/local/lib/python3.7/dist-packages (from requests->pytorch_pretrained_bert) (2.10)\n"
          ]
        }
      ]
    },
    {
      "cell_type": "code",
      "source": [
        "from sklearn.linear_model import LogisticRegression"
      ],
      "metadata": {
        "id": "qDCiqq3cWhF_"
      },
      "execution_count": null,
      "outputs": []
    },
    {
      "cell_type": "code",
      "source": [],
      "metadata": {
        "id": "qMqrPkqWik9V"
      },
      "execution_count": null,
      "outputs": []
    },
    {
      "cell_type": "code",
      "source": [
        "from sklearn.feature_extraction.text import CountVectorizer\n",
        "from sklearn.linear_model import LogisticRegression\n",
        "# Data processing\n",
        "data = ... # Loads a vector of raw text documents\n",
        "train_index = int(len(train_data_df) * 0.1)\n",
        "print(train_index)\n",
        "train_data = data[:train_index,:]\n",
        "validation_data = data[int(train_index*0.2):,:]\n",
        "test_data = data[train_index:,:]\n",
        "# Assume corresponding labels for each data subset\n",
        "train_labels, test_labels, validation_labels = ...\n",
        "# Vectorization\n",
        "one_hot_vectorizer = CountVectorizer(tokenizer=tokenize_normalize,\n",
        "binary=True, max_features=20)\n",
        "one_hot_vectorizer.fit(train_data)\n",
        "train_features = one_hot_vectorizer.transform(train_features)\n",
        "validation_features = one_hot_vectorizer.fit_transform(validation_data)\n",
        "test_features = one_hot_vectorizer.transform(test_data)\n",
        "# Classification\n",
        "lr = LogisticRegression(solver='saga', max_iter=500)\n",
        "lr_model = lr.fit(train_features, train_labels)\n",
        "evaluation_summary(\"LR Train summary\",\n",
        "lr_model.predict(train_features), validation_labels)\n",
        "lr_model = lr.fit(validation_features, validation_features)\n",
        "evaluation_summary(\"LR Validation summary\",\n",
        "lr_model.predict(validation_features), validation_labels)\n",
        "lr_model = lr.fit(test_features, test_labels)\n",
        "evaluation_summary(\"LR Test summary\",\n",
        "lr_model.predict(validation_features), test_labels)"
      ],
      "metadata": {
        "colab": {
          "base_uri": "https://localhost:8080/",
          "height": 252
        },
        "id": "NzyTUf2KWUbp",
        "outputId": "a9a1383c-7b54-4aad-ed0a-a38e3bbc503e"
      },
      "execution_count": null,
      "outputs": [
        {
          "output_type": "stream",
          "name": "stdout",
          "text": [
            "120\n"
          ]
        },
        {
          "output_type": "error",
          "ename": "TypeError",
          "evalue": "ignored",
          "traceback": [
            "\u001b[0;31m---------------------------------------------------------------------------\u001b[0m",
            "\u001b[0;31mTypeError\u001b[0m                                 Traceback (most recent call last)",
            "\u001b[0;32m<ipython-input-18-f7ff347f6960>\u001b[0m in \u001b[0;36m<module>\u001b[0;34m()\u001b[0m\n\u001b[1;32m      5\u001b[0m \u001b[0mtrain_index\u001b[0m \u001b[0;34m=\u001b[0m \u001b[0mint\u001b[0m\u001b[0;34m(\u001b[0m\u001b[0mlen\u001b[0m\u001b[0;34m(\u001b[0m\u001b[0mtrain_data_df\u001b[0m\u001b[0;34m)\u001b[0m \u001b[0;34m*\u001b[0m \u001b[0;36m0.1\u001b[0m\u001b[0;34m)\u001b[0m\u001b[0;34m\u001b[0m\u001b[0;34m\u001b[0m\u001b[0m\n\u001b[1;32m      6\u001b[0m \u001b[0mprint\u001b[0m\u001b[0;34m(\u001b[0m\u001b[0mtrain_index\u001b[0m\u001b[0;34m)\u001b[0m\u001b[0;34m\u001b[0m\u001b[0;34m\u001b[0m\u001b[0m\n\u001b[0;32m----> 7\u001b[0;31m \u001b[0mtrain_data\u001b[0m \u001b[0;34m=\u001b[0m \u001b[0mdata\u001b[0m\u001b[0;34m[\u001b[0m\u001b[0;34m:\u001b[0m\u001b[0mtrain_index\u001b[0m\u001b[0;34m,\u001b[0m\u001b[0;34m:\u001b[0m\u001b[0;34m]\u001b[0m\u001b[0;34m\u001b[0m\u001b[0;34m\u001b[0m\u001b[0m\n\u001b[0m\u001b[1;32m      8\u001b[0m \u001b[0mvalidation_data\u001b[0m \u001b[0;34m=\u001b[0m \u001b[0mdata\u001b[0m\u001b[0;34m[\u001b[0m\u001b[0mint\u001b[0m\u001b[0;34m(\u001b[0m\u001b[0mtrain_index\u001b[0m\u001b[0;34m*\u001b[0m\u001b[0;36m0.2\u001b[0m\u001b[0;34m)\u001b[0m\u001b[0;34m:\u001b[0m\u001b[0;34m,\u001b[0m\u001b[0;34m:\u001b[0m\u001b[0;34m]\u001b[0m\u001b[0;34m\u001b[0m\u001b[0;34m\u001b[0m\u001b[0m\n\u001b[1;32m      9\u001b[0m \u001b[0mtest_data\u001b[0m \u001b[0;34m=\u001b[0m \u001b[0mdata\u001b[0m\u001b[0;34m[\u001b[0m\u001b[0mtrain_index\u001b[0m\u001b[0;34m:\u001b[0m\u001b[0;34m,\u001b[0m\u001b[0;34m:\u001b[0m\u001b[0;34m]\u001b[0m\u001b[0;34m\u001b[0m\u001b[0;34m\u001b[0m\u001b[0m\n",
            "\u001b[0;31mTypeError\u001b[0m: 'ellipsis' object is not subscriptable"
          ]
        }
      ]
    },
    {
      "cell_type": "code",
      "source": [
        "import sys\n",
        "import numpy as np\n",
        "import random as rn\n",
        "import torch\n",
        "from pytorch_pretrained_bert import BertModel\n",
        "from torch import nn\n",
        "from torchnlp.datasets import imdb_dataset\n",
        "from pytorch_pretrained_bert import BertTokenizer\n",
        "from keras.preprocessing.sequence import pad_sequences\n",
        "from torch.utils.data import TensorDataset, DataLoader, RandomSampler, SequentialSampler\n",
        "from torch.optim import Adam\n",
        "from torch.nn.utils import clip_grad_norm_\n",
        "from IPython.display import clear_output\n",
        "tokenizer = BertTokenizer.from_pretrained('bert-base-uncased', do_lower_case=True)\n"
      ],
      "metadata": {
        "id": "G9rBRIyfrcbp"
      },
      "execution_count": null,
      "outputs": []
    },
    {
      "cell_type": "code",
      "source": [
        "tokenizer.tokenize(\"[He didn’t like the U.S. movie “Snakes on a train, revenge of Viper-man!”, now playing in the U.K.]\")"
      ],
      "metadata": {
        "id": "_k-H8iyIr9Na"
      },
      "execution_count": null,
      "outputs": []
    },
    {
      "cell_type": "code",
      "source": [
        "tokenizer.tokenize(\"I placed an order (order# ZA10880) on 05-11-2020 for rear axle break discs for a BMW8Coupe - part no. B342r. DH-D have lost the order. Please re-deliver ASAP.\")"
      ],
      "metadata": {
        "id": "3-rkTAyAaMQN"
      },
      "execution_count": null,
      "outputs": []
    },
    {
      "cell_type": "code",
      "execution_count": null,
      "metadata": {
        "id": "IlQpSPOucVUB"
      },
      "outputs": [],
      "source": [
        "class ItemSelector(BaseEstimator, TransformerMixin):\n",
        "    \"\"\"For data grouped by feature, select subset of data at a provided key.    \"\"\"\n",
        "    def __init__(self, key):\n",
        "        self.key = key\n",
        "\n",
        "    def fit(self, x, y=None):\n",
        "        return self\n",
        "\n",
        "    def transform(self, data_dict):\n",
        "        return data_dict[self.key]"
      ]
    },
    {
      "cell_type": "markdown",
      "source": [
        "\n",
        "\n",
        "**evaluation_summary() function prints out an evaluation summary with  performance metrics icluding accuracy, precision, recall and\tF1 Score as well as a 'classification report'**\n",
        "\n"
      ],
      "metadata": {
        "id": "cBTVbaxiBAcm"
      }
    },
    {
      "cell_type": "code",
      "execution_count": null,
      "metadata": {
        "id": "-fPBLcI-cYW3"
      },
      "outputs": [],
      "source": [
        "def evaluation_summary(description, true_labels, predictions, target_classes):\n",
        "  print(\"Evaluation for: \" + description)\n",
        "  print(classification_report(true_labels, predictions,  digits=3, zero_division=0, target_names=target_classes))\n",
        "  #print('\\nConfusion matrix:\\n',confusion_matrix(true_labels, predictions))"
      ]
    },
    {
      "cell_type": "markdown",
      "source": [
        "Vectorization is a technique for converting text documents into numerical vectors. **Count Vectorizer** is one of the simplest ways to vectorize text. Fit the vectorizer model (with default settings) on the training data column ‘body’ to learn the word vocabulary and transform the text in column ‘body’ to a document term matrix in which the individual cells reflect term frequency within the document (each reddit post body), and the columns reflects each word in the corpus (entire train_data[‘body’]).In built tokenizer in CountVectorizer divides sentences into a collection of tokens in the lexicon. Punctuation and special characters are also removed."
      ],
      "metadata": {
        "id": "wNRIxSn1ANx0"
      }
    },
    {
      "cell_type": "code",
      "execution_count": null,
      "metadata": {
        "id": "VLIMt_WpWGSQ"
      },
      "outputs": [],
      "source": [
        "# Create a one-hot encoding vectorizer. Pass in the tokenizer as the tokenizer to the vectorizer.\n",
        "onehot_vectorizer = CountVectorizer()\n",
        "tr_vector_onehot = onehot_vectorizer.fit_transform(train_data_df['body'].tolist())\n",
        "val__vector_onehot = onehot_vectorizer.transform(val_data_df['body'])\n",
        "test_vector_onehot = onehot_vectorizer.transform(test_data_df['body'])"
      ]
    },
    {
      "cell_type": "markdown",
      "source": [
        "**TF-IDF (Term Frequency-Inverse Document Frequency) vectorizer**: It tells the model about the significance of a word in a dataset. It relies on two concepts-term frequency (TF) and inverse document frequency (IDF). The frequency with which a word appears in the document/corpus is indicated by TF.TF indicates how frequently a word is appeared in the document/corpus. The IDF is used to determine the significance of a word in a document. Words that occur less frequently are more informative. This vectorizer was used with the default settings and its built-in tokenizer."
      ],
      "metadata": {
        "id": "jeqGUd1Jg8Tk"
      }
    },
    {
      "cell_type": "code",
      "execution_count": null,
      "metadata": {
        "id": "dEwY9QSr5a6T"
      },
      "outputs": [],
      "source": [
        "#create TF-IDF vectorization. Pass in the tokenizer as the tokenizer to the vectorizer.\n",
        "tfidf_vectorizer = TfidfVectorizer()\n",
        "tr_vector_tfidf = tfidf_vectorizer.fit_transform(train_data_df['body'].tolist())\n",
        "val_vector_tfidf = tfidf_vectorizer.transform(val_data_df['body'])\n",
        "test_vector_tfidf = tfidf_vectorizer.transform(test_data_df['body'])"
      ]
    },
    {
      "cell_type": "markdown",
      "source": [
        "**Extracting the labels for each of the datasets**"
      ],
      "metadata": {
        "id": "mhO0ukc9ASvF"
      }
    },
    {
      "cell_type": "code",
      "execution_count": null,
      "metadata": {
        "id": "TS-ChAO5Wmsg"
      },
      "outputs": [],
      "source": [
        "train_labels = train_data_df['subreddit']\n",
        "val_labels = val_data_df['subreddit']\n",
        "test_labels = test_data_df['subreddit']"
      ]
    },
    {
      "cell_type": "markdown",
      "metadata": {
        "id": "e_T5BdRMPz8y"
      },
      "source": [
        "\n",
        "\n",
        "1.   **Dummy Classifier with strategy=\"most_frequent\"**\n",
        "\n",
        "\n",
        "*   This classifier is used as a baseline for other classifiers that means on the given dataset other classifiers are expected to perform better. It classifies the data using simple rules and predicts most frequent class label in the training dataset by ignoring the input feature values passed as the X argument to fit and predict\n"
      ]
    },
    {
      "cell_type": "markdown",
      "metadata": {
        "id": "rM6iIgeKRzxv"
      },
      "source": [
        "\n",
        "\n",
        "*   Training set - Trained dummy classifier on the training set\n",
        "\n"
      ]
    },
    {
      "cell_type": "code",
      "execution_count": null,
      "metadata": {
        "id": "KMuR70rWXMVW"
      },
      "outputs": [],
      "source": [
        "#Dummy Classifier with strategy=\"most_frequent\"\n",
        "dummy_frq = DummyClassifier(strategy=\"most_frequent\", random_state=1)\n",
        "dummy_frq.fit(tr_vector_onehot, train_labels)\n",
        "dummy_frq_predicted_tr = dummy_frq.predict(tr_vector_onehot)\n",
        "evaluation_summary(\"Dummy Classifier['most_frequent']: Training set\", train_labels, dummy_frq_predicted_tr,  uniquelabels_tr)\n",
        "ConfusionMatrixDisplay.from_predictions(train_labels,dummy_frq_predicted_tr,xticks_rotation='vertical')"
      ]
    },
    {
      "cell_type": "code",
      "source": [
        "train_labels"
      ],
      "metadata": {
        "id": "97KbCRzt-tjT"
      },
      "execution_count": null,
      "outputs": []
    },
    {
      "cell_type": "markdown",
      "metadata": {
        "id": "l-G1uSWnR3fr"
      },
      "source": [
        "*   Test set - predict the model on testset"
      ]
    },
    {
      "cell_type": "code",
      "execution_count": null,
      "metadata": {
        "id": "mKAtW-SqJBKs"
      },
      "outputs": [],
      "source": [
        "#Dummy Classifier with strategy=\"most_frequent\" - test set\n",
        "dummy_frq_predicted_test = dummy_frq.predict(test_vector_onehot)\n",
        "evaluation_summary(\"Dummy Classifier['most_frequent: Test set']\", test_labels, dummy_frq_predicted_test,  uniquelabels_test)\n",
        "ConfusionMatrixDisplay.from_predictions(test_labels,dummy_frq_predicted_test,xticks_rotation='vertical')"
      ]
    },
    {
      "cell_type": "markdown",
      "source": [
        "**Observation** : Trained dummy classifier on the training set and achieved a 12.2% accuracy with F1 score of 0.024(macro) and 0.026(weighted). Got 146 true positive values that correspond to reddit posts with label/subreddits of 'tea' and our model correctly identified them because we trained a dummy classifier with the \"most frequent\" parameter, which predicts the most common class label in the training dataset (ie., posts with subreddit 'tea'). Predict it on the test set after training, which resulted 10.5% of accuracy with F1 score of 0.021(macro) and 0.020(weighted). Model correctly identified 42 true positive values that correspond to reddit posts with label/subreddits of 'tea'."
      ],
      "metadata": {
        "id": "23bvVz_hxge4"
      }
    },
    {
      "cell_type": "markdown",
      "metadata": {
        "id": "UKrw_mdyQADy"
      },
      "source": [
        "2.   **Dummy Classifier with strategy=\"stratified\"**\n",
        " : This is another type of dummy classifier which predicts on the basis of the label distribution of the training dataset. For example, if the reddit post with label ‘soda occurs about 8.5% of the time in the training set, then the dummy classifier will output ‘soda’ class with 8.5% probability."
      ]
    },
    {
      "cell_type": "markdown",
      "metadata": {
        "id": "2mai2cIjTl8b"
      },
      "source": [
        "*   Training Set : Trained dummy classifier with stratified parameter on the training set\n",
        "\n"
      ]
    },
    {
      "cell_type": "code",
      "execution_count": null,
      "metadata": {
        "id": "gKf60jyPgLqr"
      },
      "outputs": [],
      "source": [
        "#Dummy Classifier with strategy=\"stratified\"\n",
        "dummy_str = DummyClassifier(strategy=\"stratified\", random_state=1)\n",
        "dummy_str.fit(tr_vector_onehot, train_labels)\n",
        "dummy_str_predicted_tr = dummy_str.predict(tr_vector_onehot)\n",
        "evaluation_summary(\"Dummy Classifier['stratified']: Training set\", train_labels, dummy_str_predicted_tr,  uniquelabels_tr)\n",
        "ConfusionMatrixDisplay.from_predictions(train_labels,dummy_str_predicted_tr,xticks_rotation='vertical')"
      ]
    },
    {
      "cell_type": "markdown",
      "metadata": {
        "id": "_JFQv7R7TpVT"
      },
      "source": [
        "*   Test Set : predict the model on test set\n",
        "\n"
      ]
    },
    {
      "cell_type": "code",
      "execution_count": null,
      "metadata": {
        "id": "jtGmuJgFJai5"
      },
      "outputs": [],
      "source": [
        "#Dummy Classifier with strategy=\"stratified\" - test set\n",
        "dummy_str_predicted_test = dummy_str.predict(test_vector_onehot)\n",
        "evaluation_summary(\"Dummy Classifier['stratified']: Test set\", test_labels, dummy_str_predicted_test,  uniquelabels_test)\n",
        "ConfusionMatrixDisplay.from_predictions(test_labels,dummy_str_predicted_test,xticks_rotation='vertical')"
      ]
    },
    {
      "cell_type": "markdown",
      "metadata": {
        "id": "VL10-qLUQJJf"
      },
      "source": [
        "\n",
        "\n",
        "3.   **LogisticRegression with One-hot vectorization**\n",
        ": used to predict a dependent categorical target variable using sigmoid function."
      ]
    },
    {
      "cell_type": "markdown",
      "metadata": {
        "id": "mSZBboANUcTb"
      },
      "source": [
        "\n",
        "\n",
        "*   Training Set\n"
      ]
    },
    {
      "cell_type": "code",
      "execution_count": null,
      "metadata": {
        "id": "-wiq8Jbxjiim"
      },
      "outputs": [],
      "source": [
        "#LogisticRegression with One-hot vectorization\n",
        "lr_clf = LogisticRegression(random_state=1)\n",
        "lr_model = lr_clf.fit(tr_vector_onehot, train_labels)\n",
        "lr_onehot_predicted_tr = lr_model.predict(tr_vector_onehot)\n",
        "evaluation_summary(\"LR onehot vectorization: Training set\", train_labels, lr_onehot_predicted_tr,  uniquelabels_tr)\n",
        "ConfusionMatrixDisplay.from_predictions(train_labels, lr_onehot_predicted_tr,xticks_rotation='vertical')"
      ]
    },
    {
      "cell_type": "markdown",
      "metadata": {
        "id": "3tVQW_phUuSh"
      },
      "source": [
        "\n",
        "\n",
        "*   Test Set\n",
        "\n"
      ]
    },
    {
      "cell_type": "code",
      "execution_count": null,
      "metadata": {
        "id": "W4yJOqa6JriM"
      },
      "outputs": [],
      "source": [
        "#LogisticRegression with One-hot vectorization - test set\n",
        "lr_onehot_predicted_test = lr_model.predict(test_vector_onehot)\n",
        "evaluation_summary(\"LR onehot vectorization: Test set\", test_labels, lr_onehot_predicted_test,  uniquelabels_test)\n",
        "ConfusionMatrixDisplay.from_predictions(test_labels,lr_onehot_predicted_test,xticks_rotation='vertical')"
      ]
    },
    {
      "cell_type": "markdown",
      "metadata": {
        "id": "iRzDZh8AQOmW"
      },
      "source": [
        "\n",
        "\n",
        "4.   **LogisticRegression with TF-IDF vectorization (default settings)**\n",
        "\n",
        "\n"
      ]
    },
    {
      "cell_type": "markdown",
      "metadata": {
        "id": "3dniinGEVX-T"
      },
      "source": [
        "\n",
        "\n",
        "*   Training Set\n",
        "\n"
      ]
    },
    {
      "cell_type": "code",
      "execution_count": null,
      "metadata": {
        "id": "C6DxuP2u6071"
      },
      "outputs": [],
      "source": [
        "#LogisticRegression with TF-IDF vectorization (default settings)\n",
        "lr_tfidf_clf = LogisticRegression(random_state=1)\n",
        "lr_tfidf_model = lr_tfidf_clf.fit(tr_vector_tfidf, train_labels)\n",
        "lr_tfidf_predicted_tr = lr_tfidf_model.predict(tr_vector_tfidf)\n",
        "evaluation_summary(\"LogisticRegression TF-IDF Vectorization: Training set\", train_labels, lr_tfidf_predicted_tr,  uniquelabels_tr)\n",
        "ConfusionMatrixDisplay.from_predictions(train_labels,lr_tfidf_predicted_tr,xticks_rotation='vertical')"
      ]
    },
    {
      "cell_type": "markdown",
      "metadata": {
        "id": "TfaE1LTNVl0v"
      },
      "source": [
        "\n",
        "\n",
        "*   Test Set\n",
        "\n"
      ]
    },
    {
      "cell_type": "code",
      "execution_count": null,
      "metadata": {
        "id": "OkCZu4DyKApX"
      },
      "outputs": [],
      "source": [
        "#LogisticRegression with TF-IDF vectorization (default settings) - test set\n",
        "lr_tfidf_predicted_test = lr_tfidf_model.predict(test_vector_tfidf)\n",
        "evaluation_summary(\"LogisticRegression TF-IDF Vectorization: Test set\", test_labels, lr_tfidf_predicted_test,  uniquelabels_test)\n",
        "ConfusionMatrixDisplay.from_predictions(test_labels,lr_tfidf_predicted_test,xticks_rotation='vertical')"
      ]
    },
    {
      "cell_type": "markdown",
      "metadata": {
        "id": "MpBGL-o1QUn-"
      },
      "source": [
        "\n",
        "\n",
        "6.   **SVC Classifier with One-hot vectorization (SVM with RBF kernel, default settings))**\n",
        "\n",
        "Support Vectors Classifier maximize the distance between sample points and the hyperplane and find the best hyperplane to separate the different classes\n"
      ]
    },
    {
      "cell_type": "markdown",
      "metadata": {
        "id": "jM9ImcavWVds"
      },
      "source": [
        "\n",
        "\n",
        "*   Training Set\n",
        "\n"
      ]
    },
    {
      "cell_type": "code",
      "execution_count": null,
      "metadata": {
        "id": "U0ElcaLNT40X"
      },
      "outputs": [],
      "source": [
        "#SVC Classifier with One-hot vectorization (SVM with RBF kernel, default settings)) - train set\n",
        "svc_clf = svm.SVC(kernel='rbf')\n",
        "svc_model = svc_clf.fit(tr_vector_onehot, train_labels)\n",
        "svc_predicted_tr = svc_model.predict(tr_vector_onehot)\n",
        "evaluation_summary(\"SVC Classifier with One-hot vectorization: Training set \", train_labels, svc_predicted_tr,  uniquelabels_tr)\n",
        "ConfusionMatrixDisplay.from_predictions(train_labels,svc_predicted_tr,xticks_rotation='vertical')"
      ]
    },
    {
      "cell_type": "markdown",
      "metadata": {
        "id": "5x5m9PfcWg9Q"
      },
      "source": [
        "\n",
        "\n",
        "*   Test Set\n",
        "\n"
      ]
    },
    {
      "cell_type": "code",
      "execution_count": null,
      "metadata": {
        "id": "ooHyDZ5Ewm3U"
      },
      "outputs": [],
      "source": [
        "#SVC Classifier with One-hot vectorization (SVM with RBF kernel, default settings)) - test set\n",
        "svc_predicted_test = svc_model.predict(test_vector_onehot)\n",
        "evaluation_summary(\"SVC Classifier with One-hot vectorization: Test set \", test_labels, svc_predicted_test,  uniquelabels_test)\n",
        "ConfusionMatrixDisplay.from_predictions(test_labels,svc_predicted_test,xticks_rotation='vertical')"
      ]
    },
    {
      "cell_type": "markdown",
      "metadata": {
        "id": "TziJs-n4XPUX"
      },
      "source": [
        "\n",
        "\n",
        "*   **Comparison** : Discuss the classifier performance in comparison to the others and preprocessing techniques\n",
        "\n"
      ]
    },
    {
      "cell_type": "code",
      "source": [
        "predicted_label_trainset = [dummy_frq_predicted_tr,dummy_str_predicted_tr,lr_onehot_predicted_tr,lr_tfidf_predicted_tr,svc_predicted_tr]\n",
        "predicted_label_testset = [dummy_frq_predicted_test,dummy_str_predicted_test,lr_onehot_predicted_test,lr_tfidf_predicted_test,svc_predicted_test]\n",
        "classifier_set =['Dummy Classifier with strategy=\"most_frequent\"','Dummy Classifier with strategy=\"stratified\"','LogisticRegression with One-hot vectorization','LogisticRegression with TF-IDF vectorization','SVC Classifier with One-hot vectorization']\n",
        "index_set =['Precision : TrainingSet','Precision : TestSet','Recall : TrainingSet','Recall : TestSet','F1Score : TrainingSet','F1Score : TestSet','Accuracy : TrainingSet','Accuracy : TestSet']\n",
        "\n",
        "column_list=[]\n",
        "for i in range(5):\n",
        "  dict_train = classification_report(train_labels, predicted_label_trainset[i],  digits=3, zero_division=0, target_names=uniquelabels_tr, output_dict=True)\n",
        "  dict_test = classification_report(test_labels, predicted_label_testset[i],  digits=3, zero_division=0, target_names=uniquelabels_test, output_dict=True)\n",
        "  sublist=[]\n",
        "  sublist.append(round(dict_train['weighted avg']['precision'],3))\n",
        "  sublist.append(round(dict_test['weighted avg']['precision'],3))\n",
        "  sublist.append(round(dict_train['weighted avg']['recall'],3))\n",
        "  sublist.append(round(dict_test['weighted avg']['recall'],3))\n",
        "  sublist.append(round(dict_train['weighted avg']['f1-score'],3))\n",
        "  sublist.append(round(dict_test['weighted avg']['f1-score'],3))\n",
        "  sublist.append(round(dict_train['accuracy'],3))\n",
        "  sublist.append(round(dict_test['accuracy'],3))\n",
        "  column_list.append(sublist)\n",
        "\n",
        "col_arry = np.array(column_list)\n",
        "col_arry_T=col_arry.T\n",
        "best_indices=col_arry_T.argmax(axis=1)\n",
        "best_list=[]\n",
        "for i in best_indices:\n",
        "  best_list.append(classifier_set[i])\n",
        "\n",
        "df = pd.DataFrame(col_arry_T,columns=['Dummy:strategy=most_frequent','Dummy:strategy=stratified','LR:One-hot vectorization','LR:TF-IDF vectorization','SVC:One-hot vectorization'])\n",
        "df['Performance Metrics']= index_set\n",
        "df.set_index('Performance Metrics', inplace=True)\n",
        "df['Best'] = best_list\n",
        "df\n"
      ],
      "metadata": {
        "id": "HLStKLZlGQof"
      },
      "execution_count": null,
      "outputs": []
    },
    {
      "cell_type": "markdown",
      "source": [
        "**According to the consolidated table above , the Logistic Regression classifier with TF-IDF vectorizer had the best accuracy, precision, recall and F1 scores (weighted-avg) on test dataset making it the most reliable machine learning classifier for this data set followed by LR and SVC classifiers with one hot vectorizer.**"
      ],
      "metadata": {
        "id": "mVqdrSH8m00c"
      }
    },
    {
      "cell_type": "markdown",
      "source": [
        "\n",
        "\n",
        "*   **best performing classifier** (by weighted F1 in test set) Include a bar chart graph with the F1 score for each class - (subreddits on x-axis, F1 score on Y axis).\n",
        "\n"
      ],
      "metadata": {
        "id": "ifwefSdDrlCC"
      }
    },
    {
      "cell_type": "code",
      "execution_count": null,
      "metadata": {
        "id": "DW2h8UL8cm5L"
      },
      "outputs": [],
      "source": [
        "#the best one\n",
        "ind = best_indices[5]\n",
        "evaluation_summary(classifier_set[ind], test_labels, predicted_label_testset[ind],  uniquelabels_test)\n",
        "ConfusionMatrixDisplay.from_predictions(test_labels, predicted_label_testset[ind],xticks_rotation='vertical')\n",
        "\n",
        "dict1 = classification_report(test_labels, predicted_label_testset[ind],  digits=3, zero_division=0, target_names=uniquelabels_test, output_dict=True)\n",
        "df = pd.DataFrame(list(dict1.items()), columns=['label','value'])\n",
        "new_df = df.T\n",
        "label_arr=[]\n",
        "score_arr=[]\n",
        "for i in range(len(new_df.columns)):\n",
        "  if new_df[i]['label'] in uniquelabels_test:\n",
        "    label_arr.append(new_df[i]['label'])\n",
        "    score_arr.append(np.round(new_df[i]['value'].get('f1-score'),3))\n",
        "\n",
        "label_df=pd.DataFrame({'subreddits': label_arr ,'F1_Score': score_arr}, index=label_arr)\n",
        "#label_df\n",
        "label_df.plot.bar()\n",
        "plt.title(classifier_set[ind])\n",
        "plt.xlabel(\"subreddits\")\n",
        "plt.ylabel(\"F1 score\")"
      ]
    },
    {
      "cell_type": "markdown",
      "metadata": {
        "id": "YBMJdw_j_8fx"
      },
      "source": [
        "### Q1c:   Choose your own classifier/tokenization/normalisations approach, and report on its performance with respect to the five previous ones on the test set. [2 marks]"
      ]
    },
    {
      "cell_type": "code",
      "source": [
        "#function removes emoticons and irrelavant symbols, pictographs etc from input text\n",
        "def remove_emoji(text_data):\n",
        "    emoji_pattern = re.compile(\"[\"\n",
        "                               u\"\\U0001F600-\\U0001F64F\"  # emoticons\n",
        "                               u\"\\U0001F300-\\U0001F5FF\"  # symbols & pictographs\n",
        "                               u\"\\U0001F680-\\U0001F6FF\"  # transport & map symbols\n",
        "                               u\"\\U0001F1E0-\\U0001F1FF\"  # flags (iOS)\n",
        "                               u\"\\U00002500-\\U00002BEF\"  # chinese char\n",
        "                               u\"\\U00002702-\\U000027B0\"\n",
        "                               u\"\\U00002702-\\U000027B0\"\n",
        "                               u\"\\U000024C2-\\U0001F251\"\n",
        "                               u\"\\U0001f926-\\U0001f937\"\n",
        "                               u\"\\U00010000-\\U0010ffff\"\n",
        "                               u\"\\u2640-\\u2642\"\n",
        "                               u\"\\u2600-\\u2B55\"\n",
        "                               u\"\\u200d\"\n",
        "                               u\"\\u23cf\"\n",
        "                               u\"\\u23e9\"\n",
        "                               u\"\\u231a\"\n",
        "                               u\"\\ufe0f\"  # dingbats\n",
        "                               u\"\\u3030\"\n",
        "                               \"]+\", flags=re.UNICODE)\n",
        "    return emoji_pattern.sub(r'', text_data)\n",
        "#remove_emoji(\"Hi 🤔 How is your 🙈 and 😌. Have a nice weekend 💕👭👙\")"
      ],
      "metadata": {
        "id": "98mmYcrrqTsd"
      },
      "execution_count": null,
      "outputs": []
    },
    {
      "cell_type": "code",
      "source": [
        "#function removes all html tags from input text\n",
        "def remove_html(text_data):\n",
        "  soup = BeautifulSoup(text_data, 'lxml')\n",
        "  return soup.get_text()\n",
        "#remove_html(\"<html><head></head><body onload=loadfunc()>my text<br/>\")"
      ],
      "metadata": {
        "id": "vY3IBYOUsSn3"
      },
      "execution_count": null,
      "outputs": []
    },
    {
      "cell_type": "code",
      "source": [
        "#function that expands some commonly used english short forms\n",
        "def word_expansion(text_data):\n",
        "\n",
        "  text_data = re.sub(r\"won\\'t\", \"will not\", text_data)\n",
        "  text_data = re.sub(r\"can\\'t\", \"can not\", text_data)\n",
        "  text_data = re.sub(r\"won\\’t\", \"will not\", text_data)\n",
        "  text_data = re.sub(r\"can\\’t\", \"can not\", text_data)\n",
        "  text_data = re.sub(r\"n\\'t\", \" not\", text_data)\n",
        "  text_data = re.sub(r\"\\'re\", \" are\", text_data)\n",
        "  text_data = re.sub(r\"\\'s\", \" is\", text_data)\n",
        "  text_data = re.sub(r\"\\'d\", \" would\", text_data)\n",
        "  text_data = re.sub(r\"\\'ll\", \" will\", text_data)\n",
        "  text_data = re.sub(r\"\\'t\", \" not\", text_data)\n",
        "  text_data = re.sub(r\"\\'ve\", \" have\", text_data)\n",
        "  text_data = re.sub(r\"\\'m\", \" am\", text_data)\n",
        "  text_data = re.sub(r\"n\\’t\", \" not\", text_data)\n",
        "  text_data = re.sub(r\"\\’re\", \" are\", text_data)\n",
        "  text_data = re.sub(r\"\\’s\", \" is\", text_data)\n",
        "  text_data = re.sub(r\"\\’d\", \" would\", text_data)\n",
        "  text_data = re.sub(r\"\\’ll\", \" will\", text_data)\n",
        "  text_data = re.sub(r\"\\’t\", \" not\", text_data)\n",
        "  text_data = re.sub(r\"\\’ve\", \" have\", text_data)\n",
        "  text_data = re.sub(r\"\\’m\", \" am\", text_data)\n",
        "\n",
        "  return text_data"
      ],
      "metadata": {
        "id": "kPokkGUytFVc"
      },
      "execution_count": null,
      "outputs": []
    },
    {
      "cell_type": "markdown",
      "source": [
        "Created a **custom tokenizer**(function name: custom_tokenizer ()) for converting the text (body of reddit post) into list of words assuming that the better we tokenize the body text, the better the final result will be."
      ],
      "metadata": {
        "id": "EdBQgMpZlKYI"
      }
    },
    {
      "cell_type": "code",
      "source": [
        "def custom_tokenizer(text):\n",
        "    text = remove_html(text)    # Cleaning html elements if any\n",
        "    text = re.sub(r'https?://\\S+|www\\.\\S+', '', text)    # Cleaning urls if any\n",
        "    text = ''.join([i for i in text if not i.isdigit()])\n",
        "    text = remove_emoji(text)\n",
        "    text = word_expansion(text)\n",
        "    text = text.translate ({ord(char): \"\" for char in \"!@#$%^&*()[]{};':,./<>?\\|`~-=_+\"}) #remove all special characters\n",
        "    text = text.lower() #normalising - convert all words to lowercase by calling the lower() function on each word.\n",
        "    tokens = []\n",
        "    doc = nlp(text) #tokenize\n",
        "    for t in doc:\n",
        "        if not t.is_stop and not t.is_space:\n",
        "            tokens.append(t.lemma_) #lemmatization\n",
        "    return tokens"
      ],
      "metadata": {
        "id": "SXuD5lbW1Bo1"
      },
      "execution_count": null,
      "outputs": []
    },
    {
      "cell_type": "code",
      "source": [
        "#create TF-IDF vectorization. Pass in the tokenizer as the tokenizer to the vectorizer.\n",
        "tfidf_vectorizer_custom = TfidfVectorizer(tokenizer=custom_tokenizer)\n",
        "tr_vector_tfidf_custom = tfidf_vectorizer.fit_transform(train_data_df['body'].tolist())\n",
        "test_vector_tfidf_custom = tfidf_vectorizer.transform(test_data_df['body'])"
      ],
      "metadata": {
        "id": "R3ZkLCUgIPmM"
      },
      "execution_count": null,
      "outputs": []
    },
    {
      "cell_type": "code",
      "source": [
        "sgd = SGDClassifier(random_state=1)\n",
        "\n",
        "sgd_model = sgd.fit(tr_vector_tfidf_custom, train_labels)\n",
        "sgd_predicted_tr = sgd_model.predict(tr_vector_tfidf_custom)\n",
        "evaluation_summary(\"SGD with TF-IDF Vectorization with custom tokenizer: Traing set\", train_labels, sgd_predicted_tr,  uniquelabels_tr)\n",
        "\n",
        "sgd_predicted_test = sgd_model.predict(test_vector_tfidf_custom)\n",
        "evaluation_summary(\"SGD with TF-IDF Vectorization with custom tokenizer: Test set\", test_labels, sgd_predicted_test,  uniquelabels_test)\n",
        "ConfusionMatrixDisplay.from_predictions(test_labels, sgd_predicted_test,xticks_rotation='vertical')"
      ],
      "metadata": {
        "id": "EEuTITs_HVte"
      },
      "execution_count": null,
      "outputs": []
    },
    {
      "cell_type": "code",
      "source": [
        "predicted_label_testset = [dummy_frq_predicted_test,dummy_str_predicted_test,lr_onehot_predicted_test,lr_tfidf_predicted_test,\n",
        "                           svc_predicted_test,sgd_predicted_test]\n",
        "classifier_set =['Dummy Classifier with strategy=\"most_frequent\"','Dummy Classifier with strategy=\"stratified\"','LogisticRegression with One-hot vectorization',\n",
        "                 'LogisticRegression with TF-IDF vectorization','SVC Classifier with One-hot vectorization','SGD Custom Tokenizer-TF-IDF Vectorization']\n",
        "index_set =['Precision','Recall','F1Score','Accuracy']\n",
        "\n",
        "column_list=[]\n",
        "for i in range(6):\n",
        "  dict_test = classification_report(test_labels, predicted_label_testset[i],  digits=3, zero_division=0, target_names=uniquelabels_test, output_dict=True)\n",
        "  sublist=[]\n",
        "  sublist.append(round(dict_test['weighted avg']['precision'],3))\n",
        "  sublist.append(round(dict_test['weighted avg']['recall'],3))\n",
        "  sublist.append(round(dict_test['weighted avg']['f1-score'],3))\n",
        "  sublist.append(round(dict_test['accuracy'],3))\n",
        "  column_list.append(sublist)\n",
        "\n",
        "col_arry = np.array(column_list)\n",
        "col_arry_T=col_arry.T\n",
        "best_indices=col_arry_T.argmax(axis=1)\n",
        "best_list=[]\n",
        "for i in best_indices:\n",
        "  best_list.append(classifier_set[i])\n",
        "\n",
        "df = pd.DataFrame(col_arry_T,columns=['Dummy:most_frequent','Dummy:stratified','LR:One-hot','LR:TF-IDF','SVC:Onehot','SGD:TFIDF:Custom'])\n",
        "df['Performance Metrics']= index_set\n",
        "df.set_index('Performance Metrics', inplace=True)\n",
        "df['Best'] = best_list\n",
        "df"
      ],
      "metadata": {
        "id": "haoaN2y14q0C"
      },
      "execution_count": null,
      "outputs": []
    },
    {
      "cell_type": "code",
      "source": [
        "fig, (ax1, ax2)= plt.subplots(1, 2,figsize=(20,5))\n",
        "plot_df = df[df.index == 'F1Score']\n",
        "plot_df.plot.bar(ax=ax1)\n",
        "ax1.title.set_text(\"F1 Score Comparison\")\n",
        "ax1.set(xlabel='classifier/tokenization/normalisations approach on test data', ylabel='F1_Score')\n",
        "\n",
        "plot_df = df[df.index == 'Accuracy']\n",
        "plot_df.plot.bar(ax=ax2)\n",
        "ax2.title.set_text(\"Accuracy Comparison\")\n",
        "ax2.set(xlabel='classifier/tokenization/normalisations approach on test data', ylabel='Accuracy')"
      ],
      "metadata": {
        "id": "q8UNbVpJYCqu"
      },
      "execution_count": null,
      "outputs": []
    },
    {
      "cell_type": "markdown",
      "metadata": {
        "id": "zZcRes8WAOo6"
      },
      "source": [
        "## Q2: Tuning and Error Analysis [10 marks]"
      ]
    },
    {
      "cell_type": "markdown",
      "metadata": {
        "id": "ZuAxwU0IABir"
      },
      "source": [
        "* ### **Q2a: Parameter tuning**"
      ]
    },
    {
      "cell_type": "markdown",
      "source": [
        "Logistic Regression with TF-IDF vectorization is identified as the most reliable classifier from Q1.b. Further improving model performance CV-fold validation on training set using grid search strategy used for parameter tuning. Below parameters are used for tuning"
      ],
      "metadata": {
        "id": "l9-noDmnvpuj"
      }
    },
    {
      "cell_type": "code",
      "execution_count": null,
      "metadata": {
        "id": "0f8LOI6N7iQS"
      },
      "outputs": [],
      "source": [
        "#LR- TFIDF Vectorizer before paramter tuning\n",
        "prediction_pipeline = Pipeline([\n",
        "              ('selector', ItemSelector(key='body')),\n",
        "              ('tf-idf', TfidfVectorizer()),\n",
        "              ('logreg', LogisticRegression(random_state=1))\n",
        "              ])\n",
        "prediction_pipeline.fit(train_data_df, train_labels)\n",
        "evaluation_summary(\"LR-TFIDF : Before parameter tuning: training set\", train_labels, prediction_pipeline.predict(train_data_df), uniquelabels_tr)\n",
        "evaluation_summary(\"LR-TFIDF : Before parameter tuning: test set\", test_labels, prediction_pipeline.predict(test_data_df), uniquelabels_test)"
      ]
    },
    {
      "cell_type": "code",
      "execution_count": null,
      "metadata": {
        "id": "2A0MJCaeFEIo"
      },
      "outputs": [],
      "source": [
        "print(\"LR cssifier available paramters:\" ,lr_tfidf_clf.get_params().keys())\n",
        "print(\"Pipeline available paramters:\", prediction_pipeline.get_params().keys())\n",
        "print(\"TF IDF vectorizer available paramters:\" ,tfidf_vectorizer.get_params().keys())"
      ]
    },
    {
      "cell_type": "code",
      "execution_count": null,
      "metadata": {
        "id": "6sdfLXLKAY5Z"
      },
      "outputs": [],
      "source": [
        "#Tuning paramters to improve model performance\n",
        "parameters = {\n",
        "    'tf-idf__sublinear_tf':[True,False],\n",
        "    \"logreg__C\": [0.0001, 0.001, 0.01, 0.1, 1, 10, 100, 1000],\n",
        "    \"tf-idf__max_features\": [None,1000,1100,1200,1300,1400,1500],\n",
        "    #\"logreg__max_iter\" : [1000,2000,3000,4000,5000]\n",
        "    #'tf-idf__max_df':np.linspace(0.1, 1, 10),\n",
        "    #'tf-idf__ngram_range': [(1, 1), (1, 2), (1, 3)],\n",
        "    #'logreg__max_iter':[100,200,300,400,500]\n",
        "    #'logreg__solver' : ['newton-cg', 'liblinear',  'sag','saga'],\n",
        "    #\"tf-idf__norm\" : ['l1', 'l2'],\n",
        "    #\"logreg__penalty\":['none','elasticnet','l1','l2'],\n",
        "    #\"logreg__class_weight\":['balanced'],\n",
        "}\n",
        "\n",
        "grid_search = GridSearchCV(prediction_pipeline, param_grid=parameters, n_jobs=1, verbose=1, scoring='f1_weighted', cv=2)\n",
        "\n",
        "print(\"Performing grid search...\")\n",
        "print(\"pipeline:\", [name for name, _ in prediction_pipeline.steps])\n",
        "print(\"parameters:\")\n",
        "pprint(parameters)\n",
        "t0 = time()\n",
        "grid_search.fit(train_data_df, train_labels)\n",
        "print(\"done in %0.3fs\" % (time() - t0))\n",
        "print()\n",
        "\n",
        "print(\"Best score: %0.3f\" % grid_search.best_score_)\n",
        "print(\"Best parameters set:\")\n",
        "best_parameters = grid_search.best_estimator_.get_params()\n",
        "for param_name in sorted(parameters.keys()):\n",
        "  print(\"\\t%s: %r\" % (param_name, best_parameters[param_name]))"
      ]
    },
    {
      "cell_type": "code",
      "source": [
        "#LR with TF-IDF vectorization. Passing tuned paramters.  Pass text_pipeline_spacy tokenizer to the vectorizer.\n",
        "prediction_pipeline_tuned = Pipeline([\n",
        "              ('selector', ItemSelector(key='body')),\n",
        "              ('tf-idf', TfidfVectorizer(sublinear_tf=True,max_features=None, tokenizer=text_pipeline_spacy))\n",
        "              ])\n",
        "\n",
        "tf_idf_train_tuned = prediction_pipeline_tuned.fit_transform(train_data_df)\n",
        "tf_idf_validation_tuned = prediction_pipeline_tuned.transform(val_data_df)\n",
        "tf_idf_test_tuned = prediction_pipeline_tuned.transform(test_data_df)\n",
        "\n",
        "lr = LogisticRegression(random_state=1, C=100)\n",
        "tr_tuned_model = lr.fit(tf_idf_train_tuned,train_labels)\n",
        "\n",
        "#train set\n",
        "lr_tfidf_tuned_val = lr.predict(tf_idf_validation_tuned)\n",
        "evaluation_summary(\"LR - TF IDF with paramter tuning on Validation set\", val_labels, lr_tfidf_tuned_val , uniquelabels_val)\n",
        "\n",
        "lr_tfidf_tuned_test = lr.predict(tf_idf_test_tuned)\n",
        "evaluation_summary(\"LR - TF IDF with paramter tuning on Test set\", test_labels, lr_tfidf_tuned_test , uniquelabels_test)\n",
        "ConfusionMatrixDisplay.from_predictions(test_labels,lr_tfidf_tuned_test,xticks_rotation='vertical')"
      ],
      "metadata": {
        "id": "J20eUJr760Zx"
      },
      "execution_count": null,
      "outputs": []
    },
    {
      "cell_type": "code",
      "source": [
        "predicted_label_testset = [lr_tfidf_predicted_test,lr_tfidf_tuned_test]\n",
        "classifier_set =['LR-TF-IDF vectorization','LR-TF-IDF Vectorization with Parameter Tuning']\n",
        "index_set =['Precision','Recall','F1Score','Accuracy']\n",
        "\n",
        "column_list=[]\n",
        "for i in range(2):\n",
        "  dict_test = classification_report(test_labels, predicted_label_testset[i],  digits=3, zero_division=0, target_names=uniquelabels_test, output_dict=True)\n",
        "  sublist=[]\n",
        "  sublist.append(round(dict_test['weighted avg']['precision'],3))\n",
        "  sublist.append(round(dict_test['weighted avg']['recall'],3))\n",
        "  sublist.append(round(dict_test['weighted avg']['f1-score'],3))\n",
        "  sublist.append(round(dict_test['accuracy'],3))\n",
        "  column_list.append(sublist)\n",
        "\n",
        "col_arry = np.array(column_list)\n",
        "col_arry_T=col_arry.T\n",
        "best_indices=col_arry_T.argmax(axis=1)\n",
        "best_list=[]\n",
        "for i in best_indices:\n",
        "  best_list.append(classifier_set[i])\n",
        "\n",
        "df = pd.DataFrame(col_arry_T,columns=['LR-TF-IDF vectorization (Q1.b)','LR-TF-IDF Vectorization with Parameter Tuning (Q2.a)'])\n",
        "df['Performance Metrics']= index_set\n",
        "df.set_index('Performance Metrics', inplace=True)\n",
        "df['Best'] = best_list\n",
        "df"
      ],
      "metadata": {
        "id": "R4ehNOYbqePN"
      },
      "execution_count": null,
      "outputs": []
    },
    {
      "cell_type": "code",
      "source": [
        "fig, ax1= plt.subplots(1, 1,figsize=(10,5))\n",
        "df.plot.line(ax=ax1)\n",
        "ax1.set(ylabel='Value')"
      ],
      "metadata": {
        "id": "l_T5NNYhwAjF"
      },
      "execution_count": null,
      "outputs": []
    },
    {
      "cell_type": "markdown",
      "metadata": {
        "id": "pIsRTiW-ABs8"
      },
      "source": [
        "* ### Q2b: Error analysis - Manually examine the predictions of your optimised classifier on the test set. Analyse the results for patterns and trends. Hypothesise why common classification errors are made. Report on your error analysis process and summarise your findings."
      ]
    },
    {
      "cell_type": "markdown",
      "metadata": {
        "id": "BWs7YqOOAbLp"
      },
      "source": [
        "## Q3: Feature Engineering"
      ]
    },
    {
      "cell_type": "markdown",
      "metadata": {
        "id": "lOpWB9pMAcri"
      },
      "source": [
        "### Q3a:\n",
        "Below features are selected to add to the tuned model from Q2.\n",
        "\n",
        "\n",
        "1.   Added other properties of reddit posts.\n",
        "‘Title’ has been added as an additional feature. In a normal context, title of a reddit post shows a very brief description of the subreddit. It will be shown in the tab's text, as well as in Reddit and Google search results. As a result, if we add title as a new feature, there may be a significant increase in classifier performance.\n",
        "2.   Word embedding using Gensim word2vec\n",
        "word2vec is used for word embedding. Reddit post ‘title’ has been passed to gensim function created. Since it is capable of capturing word similarity using vector arithmetic, it may improve model performance. Also size of generated vector is small and flexible.\n"
      ]
    },
    {
      "cell_type": "markdown",
      "source": [
        "### Q3b:"
      ],
      "metadata": {
        "id": "Q6CEo84D1sqR"
      }
    },
    {
      "cell_type": "code",
      "source": [
        "class GensimSelector(BaseEstimator, TransformerMixin):\n",
        "    \"\"\"For data grouped by feature, select subset of data at a provided key.    \"\"\"\n",
        "\n",
        "    def __init__(self, key):\n",
        "        self.key = key\n",
        "\n",
        "    def fit(self, x, y=None):\n",
        "        return self\n",
        "\n",
        "    def transform(self, data_dict):\n",
        "        return data_dict[self.key]"
      ],
      "metadata": {
        "id": "I4w9HFdKkc1-"
      },
      "execution_count": null,
      "outputs": []
    },
    {
      "cell_type": "code",
      "source": [
        "class GensimFun(BaseEstimator, TransformerMixin):\n",
        "    \"\"\"Extract features from each document for DictVectorizer\"\"\"\n",
        "\n",
        "    def fit(self, x, y=None):\n",
        "        return self\n",
        "\n",
        "    def transform(self, posts):\n",
        "        model = gensim.models.Word2Vec(window=10, min_count=1, workers=4, size=25)\n",
        "        token_list=[]\n",
        "        for i in range(len(posts)):\n",
        "          tokens = gensim.utils.simple_preprocess(posts[i])\n",
        "          token_list.append(tokens)\n",
        "\n",
        "        model.build_vocab(token_list, progress_per=1000)\n",
        "\n",
        "        model.train(posts, total_examples=model.corpus_count, epochs=model.iter)\n",
        "        model.save('./my_test_vocab.model')\n",
        "        final_vec_arr=[]\n",
        "        for i in range(len(posts)):\n",
        "            tokens = gensim.utils.simple_preprocess(posts[i])\n",
        "            model.train(tokens, total_examples=model.corpus_count, epochs=model.iter)\n",
        "            if len(tokens)>0:\n",
        "              tmp = np.sum(model.wv[tokens],axis=0)\n",
        "            else:\n",
        "              tmp = np.empty(25, dtype=float)\n",
        "            final_vec_arr.append(tmp)\n",
        "        final_vec_arr = np.array(list(final_vec_arr))\n",
        "        return final_vec_arr"
      ],
      "metadata": {
        "id": "BgT9LRhOn7a5"
      },
      "execution_count": null,
      "outputs": []
    },
    {
      "cell_type": "code",
      "source": [
        "from sklearn.pipeline import FeatureUnion\n",
        "from sklearn.pipeline import Pipeline\n",
        "from sklearn.feature_extraction.text import CountVectorizer\n",
        "\n",
        "# Use FeatureUnion to combine the features from text and summary\n",
        "prediction_pipeline_feature = Pipeline([\n",
        "        ('union', FeatureUnion(\n",
        "          transformer_list=[\n",
        "            ('body', Pipeline([\n",
        "              ('selector', ItemSelector(key='body')),\n",
        "              ('tf-idf', TfidfVectorizer(sublinear_tf=True, max_features=None,tokenizer=text_pipeline_spacy)),\n",
        "              ])),\n",
        "            ('title', Pipeline([\n",
        "              ('selector', GensimSelector(key='title')),\n",
        "              ('w2v', GensimFun())\n",
        "              ])),\n",
        "        ])\n",
        "        )\n",
        "    ])\n",
        "\n",
        "tf_idf_train_features2 = prediction_pipeline_feature.fit_transform(train_data_df)\n",
        "tf_idf_validation_features2 = prediction_pipeline_feature.transform(val_data_df)\n",
        "tf_idf_test_features2 = prediction_pipeline_feature.transform(test_data_df)\n",
        "\n",
        "lr = LogisticRegression(random_state=1, C=100)\n",
        "combined_model = lr.fit(tf_idf_train_features2,train_labels)\n",
        "\n",
        "#train set\n",
        "tf_idf_feature_model = lr.predict(tf_idf_train_features2)\n",
        "evaluation_summary(\"LR TFIDF(fine tuned) with feature addition- trainset\", train_labels,tf_idf_feature_model , uniquelabels_tr)\n",
        "ConfusionMatrixDisplay.from_predictions(train_labels,tf_idf_feature_model,xticks_rotation='vertical')\n",
        "\n",
        "#validation set\n",
        "tf_idf_val_feature_model = lr.predict(tf_idf_validation_features2)\n",
        "evaluation_summary(\"LR TFIDF(fine tuned) with feature addition- validation set\", val_labels,tf_idf_val_feature_model , uniquelabels_val)\n",
        "ConfusionMatrixDisplay.from_predictions(val_labels,tf_idf_val_feature_model,xticks_rotation='vertical')\n",
        "\n",
        "#test set\n",
        "tf_idf_test_features_model = lr.predict(tf_idf_test_features2)\n",
        "evaluation_summary(\"LR TFIDF(fine tuned) with feature addition- testset\", test_labels,tf_idf_test_features_model , uniquelabels_test)\n",
        "ConfusionMatrixDisplay.from_predictions(test_labels,tf_idf_test_features_model,xticks_rotation='vertical')"
      ],
      "metadata": {
        "id": "R0to1MdNKKW4"
      },
      "execution_count": null,
      "outputs": []
    },
    {
      "cell_type": "markdown",
      "metadata": {
        "id": "NSw1OczAAgb3"
      },
      "source": [
        "### Q3c:"
      ]
    },
    {
      "cell_type": "code",
      "source": [
        "predicted_label_testset = [lr_tfidf_predicted_test,lr_tfidf_tuned_test,tf_idf_test_features_model]\n",
        "classifier_set =['LR-TF-IDF vectorization','LR-TF-IDF Vectorization with Parameter Tuning','LR-TF-IDF-Param Tuning-Feature Engineering']\n",
        "index_set =['Precision','Recall','F1Score','Accuracy']\n",
        "\n",
        "column_list=[]\n",
        "for i in range(3):\n",
        "  dict_test = classification_report(test_labels, predicted_label_testset[i],  digits=3, zero_division=0, target_names=uniquelabels_test, output_dict=True)\n",
        "  sublist=[]\n",
        "  sublist.append(round(dict_test['weighted avg']['precision'],3))\n",
        "  sublist.append(round(dict_test['weighted avg']['recall'],3))\n",
        "  sublist.append(round(dict_test['weighted avg']['f1-score'],3))\n",
        "  sublist.append(round(dict_test['accuracy'],3))\n",
        "  column_list.append(sublist)\n",
        "\n",
        "col_arry = np.array(column_list)\n",
        "col_arry_T=col_arry.T\n",
        "best_indices=col_arry_T.argmax(axis=1)\n",
        "best_list=[]\n",
        "for i in best_indices:\n",
        "  best_list.append(classifier_set[i])\n",
        "\n",
        "df = pd.DataFrame(col_arry_T,columns=['LR-TF-IDF (Q1.b)','LR-TF-IDF with Param Tuning (Q2.a)','LR-TF-IDF-Param Tuning-Feature Engineering'])\n",
        "df['Performance Metrics']= index_set\n",
        "df.set_index('Performance Metrics', inplace=True)\n",
        "df['Best'] = best_list\n",
        "df"
      ],
      "metadata": {
        "id": "hdslU7ZaWYbH"
      },
      "execution_count": null,
      "outputs": []
    },
    {
      "cell_type": "code",
      "source": [
        "fig, ax1= plt.subplots(1, 1,figsize=(10,5))\n",
        "df.plot.line(ax=ax1)\n",
        "ax1.set(ylabel='Value')"
      ],
      "metadata": {
        "id": "rd_bHU1gWa3a"
      },
      "execution_count": null,
      "outputs": []
    },
    {
      "cell_type": "code",
      "source": [],
      "metadata": {
        "id": "j9Q1WlLmaGeZ"
      },
      "execution_count": null,
      "outputs": []
    }
  ],
  "metadata": {
    "colab": {
      "provenance": [],
      "include_colab_link": true
    },
    "kernelspec": {
      "display_name": "Python 3",
      "name": "python3"
    },
    "language_info": {
      "name": "python"
    }
  },
  "nbformat": 4,
  "nbformat_minor": 0
}